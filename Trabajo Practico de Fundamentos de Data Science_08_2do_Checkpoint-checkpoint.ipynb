{
 "cells": [
  {
   "cell_type": "markdown",
   "id": "817b90f9-2ba0-402a-a7f6-ba2179376fed",
   "metadata": {},
   "source": [
    "# Trabajo Practico de Fundamentos de Data Science\n"
   ]
  },
  {
   "cell_type": "markdown",
   "id": "3fabf0bd-d5b0-4ccd-a917-0f659b3daea5",
   "metadata": {},
   "source": [
    "#### Introducción\n",
    "El objetivo del trabajo práctico es que el alumno tenga la experiencia de construir una solución a un problema utilizando técnicas de Machine Learning.\n",
    "Durante el desarrollo de este deberá trabajar en equipo y aplicar las técnicas aprendidas en clase para entrenar un modelo.\n",
    "Se espera que el alumno pueda aplicar las técnicas relacionadas con cada etapa de la consturcción deun modelo de Machine Learning."
   ]
  },
  {
   "cell_type": "markdown",
   "id": "e3771a36-3be2-4d1f-8129-e9079fb73ad6",
   "metadata": {},
   "source": [
    "#### Objetivos\n",
    "* Elegir un problema a resolver utilizando técnicas dde Machine Learning.\n",
    "* Obtener y modelar los datos necesarios para resolver el problema\n",
    "* Entrenar y aplicar (predecir) un modelo de Machine Learning\n",
    "* Explicar cuál sería el beneficio de aplicar la solución basada en Machine Learning."
   ]
  },
  {
   "cell_type": "markdown",
   "id": "e9efb18a-f67c-4e33-9af0-b0f3a63f4a23",
   "metadata": {},
   "source": [
    "#### Desarrollo\n",
    "Para el desarrollo del trabajo práctico el grupo de alumnos deberá elegir uno de los conjuntos de datos disponibles\n",
    "* Canciones de spotify (Clasificación)\n",
    "* Satisfacción den vuelos de aerolineas (Clasificación)\n",
    "* Precios de viviendas (Regresión)"
   ]
  },
  {
   "cell_type": "markdown",
   "id": "ca075e47-987f-4752-9305-0d4ef0f416ac",
   "metadata": {},
   "source": [
    "Una vez definido el conjunto de datos para trabajar se deberán presetnar los siguientes documentos\n",
    "1. EDA (Análisis Exploratorio de Datos). Puede presentarse en formato Jupyter Notebooks y debe tener conclusiones de los análisis realizados.\n",
    "2. Baseline, predicción sin modelos, sólo con percepción luego del análisis.\n",
    "3. Jupyter notebook de pre-procesamineto de los datos. En este fragmento de código deben estar las transformaciones realizadas a los datos hechas previamente al entrenamiento del modelo.\n",
    "4. Jupyter notebook de entrenamiento de modelos. Se deben entrenar al menos 3 algoritmos diferentes y se debe elegir y justificar cuál debería ser el mdelo utilizado en producción.\n",
    "5. Presentación final de resultados. Se espera una presentación que compare la resolución del problema utilizando el modelo de una solución sin la utilización de éste enfoque."
   ]
  },
  {
   "cell_type": "markdown",
   "id": "0cf8db0f-bcd9-42ab-891e-1945b004d317",
   "metadata": {},
   "source": [
    "# Segundo Checkpoint"
   ]
  },
  {
   "cell_type": "markdown",
   "id": "c3e1e349-63a5-4e5c-98e5-2dbf0023aeb3",
   "metadata": {},
   "source": [
    "Fecha: 16 jun 2022\n",
    "\n",
    "Los grupos deberán presentar en no más de 20 minutos lo realizado en el código hasta la fecha. Se espera ver:\n",
    "* Transformación de variables categóricas a numéricas\n",
    "* Separación de conjuntos de datos en entrenamiento y evaluación\n",
    "* Evaluación del baseline\n",
    "* Entrenamiento y evaluación de al menos un modelo de Machine Learning.\n",
    "\n",
    "No es obligatorio tener el trabajo terminado, pero sí diagramado (el esqueleto/template) lo que aún no esté hecho. Es el último checkpoint previo a la presentación final, por lo cual se evacuarán dudas."
   ]
  },
  {
   "cell_type": "markdown",
   "id": "43f253df-ee53-4ec6-9371-681920c9efe2",
   "metadata": {
    "tags": []
   },
   "source": [
    "# Desarrollo del Segundo Checkpoint"
   ]
  },
  {
   "cell_type": "markdown",
   "id": "6a606d6c-6abf-47e8-beb8-bfe30fd8a077",
   "metadata": {
    "jp-MarkdownHeadingCollapsed": true,
    "tags": []
   },
   "source": [
    "-----------------------\n",
    "## EDA\n",
    "Requerido:\n",
    "* Distribuciones de las variables\n",
    "* Análisis/imputación de valores nulos\n",
    "* Análisis valores extremos (Outliers)\n",
    "* Relación de features con el target\n",
    "Deseable:\n",
    "* Correlación entre variables"
   ]
  },
  {
   "cell_type": "code",
   "execution_count": null,
   "id": "b2ddd57e-a815-4151-9da0-e3d46aed3258",
   "metadata": {},
   "outputs": [],
   "source": [
    "# Libreria de manejo de datos\n",
    "import pandas as pd\n",
    "\n",
    "# Librerias de visualizaciñon\n",
    "import matplotlib.pyplot as plt\n",
    "import seaborn as sns\n",
    "\n",
    "#Librería Númerico\n",
    "import numpy as np\n",
    "\n",
    "\n",
    "%matplotlib inline\n",
    "\n",
    "import warnings\n",
    "warnings.filterwarnings(\"ignore\")"
   ]
  },
  {
   "cell_type": "code",
   "execution_count": null,
   "id": "6305a1db-d3ca-4d55-af38-56b97e38869a",
   "metadata": {},
   "outputs": [],
   "source": [
    "invistico_Airline = pd.read_csv('Invistico_Airline.csv', sep=',')\n",
    "\n",
    "# replacing values column: satisfaction\n",
    "# 0=dissatisfied, 1=satisfied\n",
    "invistico_Airline['satisfaction'].replace(['dissatisfied', 'satisfied'],\n",
    "                        [0, 1], inplace=True)"
   ]
  },
  {
   "cell_type": "code",
   "execution_count": null,
   "id": "b7852070-c8e0-4481-9f33-c77629601082",
   "metadata": {},
   "outputs": [],
   "source": [
    "# replacing values column: Gender\n",
    "# 0=Female, 1=Male\n",
    "invistico_Airline['Gender'].replace(['Female', 'Male'],\n",
    "                        [0, 1], inplace=True)\n",
    "\n",
    "# replacing values column: Customer Type\n",
    "# 0=Loyal Customer, 1=disloyal Customer\n",
    "invistico_Airline['Customer Type'].replace(['Loyal Customer', 'disloyal Customer'],\n",
    "                        [0, 1], inplace=True)\n",
    "\n",
    "# replacing values column: Customer Type\n",
    "# 0=Business travel, 1=Personal Travel\n",
    "invistico_Airline['Type of Travel'].replace(['Business travel', 'Personal Travel'],\n",
    "                        [0, 1], inplace=True)"
   ]
  },
  {
   "cell_type": "code",
   "execution_count": null,
   "id": "0c29ad64-4eeb-4497-9bf4-f003f56dd21d",
   "metadata": {},
   "outputs": [],
   "source": [
    "invistico_Airline.rename(columns = {'Departure Delay in Minutes':'demoraSalida', 'Arrival Delay in Minutes':'demoraLlegada'}, inplace = True)"
   ]
  },
  {
   "cell_type": "code",
   "execution_count": null,
   "id": "dcc85c1f-cc2c-4d27-90e0-1e095bbb2b37",
   "metadata": {},
   "outputs": [],
   "source": [
    "invistico_Airline.head()"
   ]
  },
  {
   "cell_type": "code",
   "execution_count": null,
   "id": "3a2f6339-8c4b-44a6-9c72-c0f254c859b1",
   "metadata": {},
   "outputs": [],
   "source": [
    "# get the dummies and store it in a variable\n",
    "dummies = pd.get_dummies(invistico_Airline.Class, prefix='Class')\n",
    " \n",
    "#Business, Eco, Eco Plus\n",
    "    \n",
    "# Concatenate the dummies to original dataframe\n",
    "merged = pd.concat([invistico_Airline, dummies], axis='columns')\n",
    " \n",
    "# drop the values\n",
    "merged = merged.drop(['Class'], axis='columns')\n",
    "\n",
    "merged.head()"
   ]
  },
  {
   "cell_type": "code",
   "execution_count": null,
   "id": "600e70b3-bf11-4f84-aca0-d4b71f365987",
   "metadata": {},
   "outputs": [],
   "source": [
    "invistico_Airline['Tiene Demora'] = invistico_Airline['Departure Delay in Minutes'].apply(lambda value: 'low' \n",
    "                                                              if value <= 15 else 'medium' \n",
    "                                                                  if value <= 60 else 'high')"
   ]
  },
  {
   "cell_type": "code",
   "execution_count": null,
   "id": "d88a12ae-3f4f-4ec5-be00-36e65f6053ca",
   "metadata": {},
   "outputs": [],
   "source": [
    "invistico_Airline.head()"
   ]
  },
  {
   "cell_type": "code",
   "execution_count": null,
   "id": "7083b4ee-8f6f-4a4c-b299-86939bf987d4",
   "metadata": {},
   "outputs": [],
   "source": [
    "#Ver columnas con valores nulos\n",
    "nan_values = invistico_Airline.isna()\n",
    "nan_columns = nan_values.any()\n",
    "\n",
    "columns_with_nan = invistico_Airline.columns[nan_columns].tolist()\n",
    "print(columns_with_nan)"
   ]
  },
  {
   "cell_type": "code",
   "execution_count": null,
   "id": "2da78673-ca75-4072-8da0-fd7d12933e57",
   "metadata": {},
   "outputs": [],
   "source": [
    "#my_df = invistico_Airline[~invistico_Airline['Arrival Delay in Minutes'].isnull()]\n",
    "my_df = invistico_Airline[invistico_Airline['Arrival Delay in Minutes'].isnull()]\n",
    "my_df.shape\n",
    "#my_df"
   ]
  },
  {
   "cell_type": "code",
   "execution_count": null,
   "id": "627ef2fa-62c3-4438-af77-d291e6e451e1",
   "metadata": {},
   "outputs": [],
   "source": [
    "#Ver los primeros registros\n",
    "invistico_Airline.head()"
   ]
  },
  {
   "cell_type": "code",
   "execution_count": null,
   "id": "b09609e4-92aa-430c-b8fc-4d7125773fad",
   "metadata": {},
   "outputs": [],
   "source": [
    "# Ver las columnas\n",
    "invistico_Airline.columns"
   ]
  },
  {
   "cell_type": "code",
   "execution_count": null,
   "id": "103a60c2-d159-4049-934e-fbd385e87963",
   "metadata": {},
   "outputs": [],
   "source": [
    "# Ver las dimensiones del dataset\n",
    "invistico_Airline.shape"
   ]
  },
  {
   "cell_type": "code",
   "execution_count": null,
   "id": "23b21a53-a967-44fb-a899-1cbcd641dffe",
   "metadata": {},
   "outputs": [],
   "source": [
    "#¿Hay valores nulos en los datos?\n",
    "invistico_Airline.info()"
   ]
  },
  {
   "cell_type": "code",
   "execution_count": null,
   "id": "3d5d3068-78c1-41a7-9043-9b1469f93222",
   "metadata": {},
   "outputs": [],
   "source": [
    "invistico_Airline['Arrival Delay in Minutes'].describe()"
   ]
  },
  {
   "cell_type": "code",
   "execution_count": null,
   "id": "fa8dfb53-12bc-4d3f-8fc4-603aca64e4af",
   "metadata": {},
   "outputs": [],
   "source": [
    "#Como se distribuyen las variables numéricas\n",
    "invistico_Airline.describe()"
   ]
  },
  {
   "cell_type": "code",
   "execution_count": null,
   "id": "385289d9-c509-4fbb-b288-e6e11a761e41",
   "metadata": {},
   "outputs": [],
   "source": [
    "invistico_Airline.median()"
   ]
  },
  {
   "cell_type": "code",
   "execution_count": null,
   "id": "75e6b36e-bafa-442f-b9d1-2204622e77a5",
   "metadata": {},
   "outputs": [],
   "source": [
    "#Como se comportan las variables categóricas\n",
    "invistico_Airline.describe(include=['O'])"
   ]
  },
  {
   "cell_type": "code",
   "execution_count": null,
   "id": "1f6c1043-ce9d-4008-9439-3acff184ae08",
   "metadata": {},
   "outputs": [],
   "source": [
    "invistico_Airline['satisfaction'].describe()\n",
    "invistico_Airline['Departure Delay in Minutes'].describe()\n",
    "invistico_Airline['Arrival Delay in Minutes'].describe()\n",
    "invistico_Airline.groupby(['satisfaction']).count()['Age']\n",
    "invistico_Airline.groupby(['satisfaction', 'Gender']).count()['Age']\n"
   ]
  },
  {
   "cell_type": "code",
   "execution_count": null,
   "id": "0ce01759-7ef8-4b5a-9146-f9245f5f2699",
   "metadata": {},
   "outputs": [],
   "source": [
    "grouped_gender = invistico_Airline.groupby(['satisfaction', 'Gender']).count()['Age']\n",
    "print(grouped_gender)\n",
    "(grouped_gender.unstack(level=0).plot.bar())\n",
    "plt.show()"
   ]
  },
  {
   "cell_type": "code",
   "execution_count": null,
   "id": "ebbaa487-881d-4e5a-b9d8-ea9ecb0fd988",
   "metadata": {},
   "outputs": [],
   "source": [
    "grouped_gender = invistico_Airline.groupby(['satisfaction', 'Tiene Demora', 'Customer Type', 'Type of Travel', 'Class', 'Gender']).count()['Age']\n",
    "#grouped_gender = invistico_Airline.groupby(['satisfaction', 'Tiene Demora']).count()['Age']\n",
    "print(grouped_gender.unstack(level=0))\n",
    "(grouped_gender.unstack(level=0).plot.bar(figsize=(15, 10)))\n",
    "plt.show()"
   ]
  },
  {
   "cell_type": "code",
   "execution_count": null,
   "id": "4bd04e66-72bc-4076-b1b9-60cc984f91d1",
   "metadata": {},
   "outputs": [],
   "source": [
    "media_satisfaccion = invistico_Airline.groupby(['Customer Type', 'Type of Travel', 'Class', 'Gender']).satisfaction.describe()\n",
    "#print(media_satisfaccion.unstack(level=0))\n",
    "media_satisfaccion.sort_values(by=['mean'], inplace=True, ascending=False)\n",
    "media_satisfaccion\n",
    "\n",
    "#subset_attributes = ['Customer Type', 'Type of Travel', 'Class', 'Gender']\n",
    "\n",
    "\n",
    "#print(media_satisfaccion)\n",
    "\n",
    "#(m.unstack(level=0).plot.bar(figsize=(15, 10)))\n",
    "#plt.show()"
   ]
  },
  {
   "cell_type": "code",
   "execution_count": null,
   "id": "ad72e332-9751-409a-bc23-68d832f41f74",
   "metadata": {},
   "outputs": [],
   "source": [
    "f, ax = plt.subplots(figsize=(14, 8))\n",
    "#corr = reg_con_demora.corr()\n",
    "corr = invistico_Airline.corr()\n",
    "satisfaction_corr = corr[['satisfaction']]\n",
    "#hm = sns.heatmap(round(corr,2), annot=True, ax=ax, cmap=\"coolwarm\",fmt='.2f',linewidths=.05)\n",
    "hm = sns.heatmap(round(satisfaction_corr,2), annot=True, ax=ax, cmap=\"coolwarm\",fmt='.2f',linewidths=.05)\n",
    "f.subplots_adjust(top=0.93)\n",
    "t= f.suptitle('Correlación de atributos con la variable de respuesta \"Satisfacción\"', fontsize=14)"
   ]
  },
  {
   "cell_type": "code",
   "execution_count": null,
   "id": "a2d2a3be-1c73-4d82-938a-67d0986a42b1",
   "metadata": {},
   "outputs": [],
   "source": [
    "f, ax = plt.subplots(figsize=(14, 8))\n",
    "corr = reg_con_demora.corr()\n",
    "hm = sns.heatmap(round(corr,2), annot=True, ax=ax, cmap=\"coolwarm\",fmt='.2f',linewidths=.05)\n",
    "f.subplots_adjust(top=0.93)\n",
    "t= f.suptitle('Correlación entre atributos de las encuestas de vuelos', fontsize=14)"
   ]
  },
  {
   "cell_type": "code",
   "execution_count": null,
   "id": "d59cbed8-4425-4be9-a6fe-710184b33424",
   "metadata": {},
   "outputs": [],
   "source": [
    "reg_con_demora.groupby(['satisfaction', 'Tiene Demora']).count()['Age']"
   ]
  },
  {
   "cell_type": "code",
   "execution_count": null,
   "id": "a6f683ab-6f72-4fcd-9f15-bdb7fdf3d5cb",
   "metadata": {},
   "outputs": [],
   "source": [
    "#Departure Delay in Minutes\n",
    "#Arrival Delay in Minutes  \n",
    "reg_con_demora = invistico_Airline.query(\"demoraSalida > 0\")\n",
    "reg_con_demora.shape"
   ]
  },
  {
   "cell_type": "code",
   "execution_count": null,
   "id": "334449e4-782c-4367-8f2a-5e2289ccf2cb",
   "metadata": {},
   "outputs": [],
   "source": [
    "#relacion entre Gender (Género) y satisfaction (Satisfacción)\n",
    "#relación entre Customer Type (Tipo de cliente) y satisfaction (Satisfacción)\n",
    "#relación entre Age (Edad) y satisfaction (Satisfacción)\n",
    "#relación entre Type of Travel (Tipo de viaje) y satisfaction (Satisfacción)\n",
    "#relación entre Class (Clase) y satisfaction (Satisfacción)\n",
    "sns.lmplot(x='Age', y='satisfaction', data=invistico_Airline, aspect=1.45, scatter_kws={'alpha':0.2})"
   ]
  },
  {
   "cell_type": "code",
   "execution_count": null,
   "id": "493d96bd-2995-4804-8db7-2e5d46c9b68a",
   "metadata": {},
   "outputs": [],
   "source": [
    "#pd.crosstab(invistico_Airline['Gender'], invistico_Airline['satisfaction'], margins = 1)\n",
    "#pd.crosstab(invistico_Airline['Class'], invistico_Airline['satisfaction'], margins = 1)\n",
    "#pd.crosstab(invistico_Airline['Customer Type'], invistico_Airline['satisfaction'], margins = 1)\n",
    "pd.crosstab(invistico_Airline['Type of Travel'], invistico_Airline['satisfaction'], margins = 1)"
   ]
  },
  {
   "cell_type": "code",
   "execution_count": null,
   "id": "198d41c0-81d7-46f9-8127-6c536a8e959b",
   "metadata": {},
   "outputs": [],
   "source": [
    "fig = plt.figure(figsize = (6, 4))\n",
    "title = fig.suptitle(\"Distribución de la edad en los vuelos\", fontsize=14)\n",
    "fig.subplots_adjust(top=0.85, wspace=0.3)\n",
    "\n",
    "ax1 = fig.add_subplot(1,1, 1)\n",
    "ax1.set_xlabel(\"Age\")\n",
    "ax1.set_ylabel(\"Densidad\") \n",
    "sns.kdeplot(invistico_Airline['Age'], ax=ax1, shade=True, color='steelblue')"
   ]
  },
  {
   "cell_type": "code",
   "execution_count": null,
   "id": "ef019c29-6f14-485c-b860-02352e8771ad",
   "metadata": {},
   "outputs": [],
   "source": [
    "#subset_attributes = ['Seat comfort', 'Departure/Arrival time convenient', 'Food and drink', 'Gate location'\n",
    "#                     , 'Inflight wifi service', 'Inflight entertainment', 'Online support','Ease of Online booking'\n",
    "#                     , 'On-board service', 'Leg room service', 'Baggage handling', 'Checkin service', 'Cleanliness', 'Online boarding']\n",
    "subset_attributes = ['Inflight entertainment', 'Ease of Online booking', 'Online support', 'On-board service'\n",
    "                    , 'Online boarding']\n",
    "ls = round(invistico_Airline[invistico_Airline['Class'] == 'Business'][subset_attributes].describe(),2)\n",
    "ms = round(invistico_Airline[invistico_Airline['Class'] == 'Eco'][subset_attributes].describe(),2)\n",
    "hs = round(invistico_Airline[invistico_Airline['Class'] == 'Eco Plus'][subset_attributes].describe(),2)\n",
    "pd.concat([ls, ms, hs], axis=1, keys=['Business', 'Eco', 'Eco Plus'])"
   ]
  },
  {
   "cell_type": "code",
   "execution_count": null,
   "id": "820c78b9-4fc4-4c07-bf8d-87039469d036",
   "metadata": {},
   "outputs": [],
   "source": [
    "jp = sns.jointplot(x='demoraSalida', y='Age', data=invistico_Airline,\n",
    "              kind='reg', space=0, size=5, ratio=4)"
   ]
  },
  {
   "cell_type": "code",
   "execution_count": null,
   "id": "6298a266-4b10-45c8-b882-9e468a59248a",
   "metadata": {},
   "outputs": [],
   "source": [
    "f, (ax) = plt.subplots(1, 1, figsize=(12, 4))\n",
    "f.suptitle('Edad por clase de viaje', fontsize=14)\n",
    "\n",
    "sns.boxplot(x=\"Class\", y=\"Age\", data=invistico_Airline,  ax=ax)\n",
    "ax.set_xlabel(\"Clase\",size = 12,alpha=0.8)\n",
    "ax.set_ylabel(\"Edad\",size = 12,alpha=0.8)"
   ]
  },
  {
   "cell_type": "code",
   "execution_count": null,
   "id": "7ea49e52-a53e-4da2-9a2a-a142ccc3e21c",
   "metadata": {},
   "outputs": [],
   "source": [
    "f, (ax) = plt.subplots(1, 1, figsize=(12, 4))\n",
    "f.suptitle('Edad por tipo de viaje', fontsize=14)\n",
    "\n",
    "sns.boxplot(x=\"Type of Travel\", y=\"Age\", data=invistico_Airline,  ax=ax)\n",
    "ax.set_xlabel(\"Type of Travel\",size = 12,alpha=0.8)\n",
    "ax.set_ylabel(\"Edad\",size = 12,alpha=0.8)"
   ]
  },
  {
   "cell_type": "code",
   "execution_count": null,
   "id": "a67aced6-fcaa-4ffc-a4fd-3493f713a056",
   "metadata": {},
   "outputs": [],
   "source": [
    "invistico_Airline.hist(bins=15, color='steelblue', edgecolor='black', linewidth=1.0, xlabelsize=8, ylabelsize=8, grid=False)    \n",
    "plt.tight_layout(rect=(0, 0, 3, 3))   "
   ]
  },
  {
   "cell_type": "code",
   "execution_count": null,
   "id": "0c8df4ee-bee9-4e8b-bcd2-0378fb0d028f",
   "metadata": {},
   "outputs": [],
   "source": []
  },
  {
   "cell_type": "code",
   "execution_count": null,
   "id": "3ccbfa29-0a90-48d6-9dd6-30bf27e3b0a3",
   "metadata": {},
   "outputs": [],
   "source": []
  },
  {
   "cell_type": "markdown",
   "id": "a6edb681-cd6b-41b0-98da-83604113c2be",
   "metadata": {
    "tags": []
   },
   "source": [
    "-----------------------\n",
    "## Import\n",
    "Imporación de librerías"
   ]
  },
  {
   "cell_type": "code",
   "execution_count": 1,
   "id": "7d0ab98a-4b98-4f17-9da6-11e2161d35e1",
   "metadata": {},
   "outputs": [],
   "source": [
    "# Librería de manejo de datos\n",
    "import pandas as pd\n",
    "\n",
    "# Librerías de visualizaciñon\n",
    "import matplotlib.pyplot as plt\n",
    "import seaborn as sns\n",
    "\n",
    "#Librería Númerico\n",
    "import numpy as np\n",
    "\n",
    "%matplotlib inline\n",
    "\n",
    "#Librería para eliminar warnings en la ejecución\n",
    "import warnings\n",
    "warnings.filterwarnings(\"ignore\")\n",
    "\n",
    "#Librería para importar imágenes\n",
    "from IPython.display import display, Image"
   ]
  },
  {
   "cell_type": "code",
   "execution_count": 2,
   "id": "045048fd-1d79-4a38-803e-20ea16eb731f",
   "metadata": {},
   "outputs": [],
   "source": [
    "from sklearn.datasets import load_iris\n",
    "from sklearn.metrics import plot_confusion_matrix\n",
    "\n",
    "#Librería de transformación de datos categóricos\n",
    "from sklearn.preprocessing import OneHotEncoder\n",
    "\n",
    "#Librerías para Entrenamiento y evaluación de al menos un modelo de Machine Learning.\n",
    "from sklearn import preprocessing\n",
    "from sklearn.model_selection import train_test_split\n",
    "from sklearn.datasets import make_classification\n",
    "\n",
    "from sklearn.model_selection import cross_val_score,StratifiedKFold, KFold\n",
    "from sklearn.linear_model import LogisticRegression\n",
    "from sklearn.tree import DecisionTreeClassifier, DecisionTreeRegressor\n",
    "from sklearn.ensemble import RandomForestClassifier, ExtraTreesClassifier, BaggingClassifier, RandomForestRegressor\n",
    "from sklearn.ensemble import AdaBoostClassifier, GradientBoostingClassifier\n",
    "from sklearn.svm import SVC\n",
    "\n",
    "#Librería de métricas\n",
    "from sklearn import metrics\n",
    "from sklearn.metrics import confusion_matrix, recall_score, roc_curve, auc, accuracy_score\n",
    "from sklearn.metrics import classification_report, precision_score\n"
   ]
  },
  {
   "cell_type": "markdown",
   "id": "be296de7-5426-4767-bc87-fc051766b600",
   "metadata": {
    "jp-MarkdownHeadingCollapsed": true,
    "tags": []
   },
   "source": [
    "-----------------------\n",
    "## Read File\n",
    "Imporación de datos de trabajo"
   ]
  },
  {
   "cell_type": "code",
   "execution_count": 3,
   "id": "6b8cb315-89fd-459d-a1bf-06cfae5576c3",
   "metadata": {},
   "outputs": [],
   "source": [
    "invistico_Airline = pd.read_csv('Invistico_Airline.csv', sep=',')"
   ]
  },
  {
   "cell_type": "code",
   "execution_count": null,
   "id": "e3e203d7-1895-45b5-98de-dc0c754e05e0",
   "metadata": {},
   "outputs": [],
   "source": [
    "invistico_Airline.satisfaction"
   ]
  },
  {
   "cell_type": "code",
   "execution_count": 4,
   "id": "46bb9b82-21f1-434b-99a2-462eb803bf36",
   "metadata": {},
   "outputs": [
    {
     "data": {
      "text/html": [
       "<div>\n",
       "<style scoped>\n",
       "    .dataframe tbody tr th:only-of-type {\n",
       "        vertical-align: middle;\n",
       "    }\n",
       "\n",
       "    .dataframe tbody tr th {\n",
       "        vertical-align: top;\n",
       "    }\n",
       "\n",
       "    .dataframe thead th {\n",
       "        text-align: right;\n",
       "    }\n",
       "</style>\n",
       "<table border=\"1\" class=\"dataframe\">\n",
       "  <thead>\n",
       "    <tr style=\"text-align: right;\">\n",
       "      <th></th>\n",
       "      <th>satisfaction</th>\n",
       "      <th>Gender</th>\n",
       "      <th>Customer Type</th>\n",
       "      <th>Age</th>\n",
       "      <th>Type of Travel</th>\n",
       "      <th>Class</th>\n",
       "      <th>Flight Distance</th>\n",
       "      <th>Seat comfort</th>\n",
       "      <th>Departure/Arrival time convenient</th>\n",
       "      <th>Food and drink</th>\n",
       "      <th>...</th>\n",
       "      <th>Online support</th>\n",
       "      <th>Ease of Online booking</th>\n",
       "      <th>On-board service</th>\n",
       "      <th>Leg room service</th>\n",
       "      <th>Baggage handling</th>\n",
       "      <th>Checkin service</th>\n",
       "      <th>Cleanliness</th>\n",
       "      <th>Online boarding</th>\n",
       "      <th>Departure Delay in Minutes</th>\n",
       "      <th>Arrival Delay in Minutes</th>\n",
       "    </tr>\n",
       "  </thead>\n",
       "  <tbody>\n",
       "    <tr>\n",
       "      <th>129054</th>\n",
       "      <td>satisfied</td>\n",
       "      <td>Male</td>\n",
       "      <td>Loyal Customer</td>\n",
       "      <td>48</td>\n",
       "      <td>Business travel</td>\n",
       "      <td>Business</td>\n",
       "      <td>3562</td>\n",
       "      <td>5</td>\n",
       "      <td>1</td>\n",
       "      <td>5</td>\n",
       "      <td>...</td>\n",
       "      <td>5</td>\n",
       "      <td>5</td>\n",
       "      <td>5</td>\n",
       "      <td>5</td>\n",
       "      <td>5</td>\n",
       "      <td>4</td>\n",
       "      <td>5</td>\n",
       "      <td>3</td>\n",
       "      <td>0</td>\n",
       "      <td>1.0</td>\n",
       "    </tr>\n",
       "    <tr>\n",
       "      <th>12885</th>\n",
       "      <td>satisfied</td>\n",
       "      <td>Female</td>\n",
       "      <td>Loyal Customer</td>\n",
       "      <td>41</td>\n",
       "      <td>Personal Travel</td>\n",
       "      <td>Eco</td>\n",
       "      <td>3799</td>\n",
       "      <td>4</td>\n",
       "      <td>4</td>\n",
       "      <td>4</td>\n",
       "      <td>...</td>\n",
       "      <td>5</td>\n",
       "      <td>4</td>\n",
       "      <td>4</td>\n",
       "      <td>4</td>\n",
       "      <td>4</td>\n",
       "      <td>2</td>\n",
       "      <td>4</td>\n",
       "      <td>3</td>\n",
       "      <td>0</td>\n",
       "      <td>0.0</td>\n",
       "    </tr>\n",
       "    <tr>\n",
       "      <th>71352</th>\n",
       "      <td>dissatisfied</td>\n",
       "      <td>Male</td>\n",
       "      <td>Loyal Customer</td>\n",
       "      <td>49</td>\n",
       "      <td>Business travel</td>\n",
       "      <td>Eco</td>\n",
       "      <td>2050</td>\n",
       "      <td>2</td>\n",
       "      <td>2</td>\n",
       "      <td>2</td>\n",
       "      <td>...</td>\n",
       "      <td>2</td>\n",
       "      <td>2</td>\n",
       "      <td>4</td>\n",
       "      <td>3</td>\n",
       "      <td>3</td>\n",
       "      <td>1</td>\n",
       "      <td>2</td>\n",
       "      <td>2</td>\n",
       "      <td>0</td>\n",
       "      <td>0.0</td>\n",
       "    </tr>\n",
       "    <tr>\n",
       "      <th>81007</th>\n",
       "      <td>dissatisfied</td>\n",
       "      <td>Female</td>\n",
       "      <td>Loyal Customer</td>\n",
       "      <td>32</td>\n",
       "      <td>Business travel</td>\n",
       "      <td>Eco Plus</td>\n",
       "      <td>2046</td>\n",
       "      <td>3</td>\n",
       "      <td>1</td>\n",
       "      <td>1</td>\n",
       "      <td>...</td>\n",
       "      <td>3</td>\n",
       "      <td>3</td>\n",
       "      <td>3</td>\n",
       "      <td>4</td>\n",
       "      <td>3</td>\n",
       "      <td>3</td>\n",
       "      <td>2</td>\n",
       "      <td>3</td>\n",
       "      <td>25</td>\n",
       "      <td>10.0</td>\n",
       "    </tr>\n",
       "    <tr>\n",
       "      <th>45902</th>\n",
       "      <td>dissatisfied</td>\n",
       "      <td>Female</td>\n",
       "      <td>disloyal Customer</td>\n",
       "      <td>43</td>\n",
       "      <td>Business travel</td>\n",
       "      <td>Business</td>\n",
       "      <td>3384</td>\n",
       "      <td>2</td>\n",
       "      <td>2</td>\n",
       "      <td>2</td>\n",
       "      <td>...</td>\n",
       "      <td>4</td>\n",
       "      <td>4</td>\n",
       "      <td>5</td>\n",
       "      <td>3</td>\n",
       "      <td>5</td>\n",
       "      <td>5</td>\n",
       "      <td>4</td>\n",
       "      <td>4</td>\n",
       "      <td>10</td>\n",
       "      <td>21.0</td>\n",
       "    </tr>\n",
       "    <tr>\n",
       "      <th>57101</th>\n",
       "      <td>satisfied</td>\n",
       "      <td>Female</td>\n",
       "      <td>disloyal Customer</td>\n",
       "      <td>22</td>\n",
       "      <td>Business travel</td>\n",
       "      <td>Business</td>\n",
       "      <td>1337</td>\n",
       "      <td>4</td>\n",
       "      <td>0</td>\n",
       "      <td>4</td>\n",
       "      <td>...</td>\n",
       "      <td>4</td>\n",
       "      <td>4</td>\n",
       "      <td>1</td>\n",
       "      <td>5</td>\n",
       "      <td>4</td>\n",
       "      <td>1</td>\n",
       "      <td>5</td>\n",
       "      <td>4</td>\n",
       "      <td>0</td>\n",
       "      <td>0.0</td>\n",
       "    </tr>\n",
       "    <tr>\n",
       "      <th>91611</th>\n",
       "      <td>satisfied</td>\n",
       "      <td>Female</td>\n",
       "      <td>Loyal Customer</td>\n",
       "      <td>50</td>\n",
       "      <td>Business travel</td>\n",
       "      <td>Business</td>\n",
       "      <td>2804</td>\n",
       "      <td>1</td>\n",
       "      <td>1</td>\n",
       "      <td>1</td>\n",
       "      <td>...</td>\n",
       "      <td>5</td>\n",
       "      <td>4</td>\n",
       "      <td>4</td>\n",
       "      <td>4</td>\n",
       "      <td>4</td>\n",
       "      <td>4</td>\n",
       "      <td>4</td>\n",
       "      <td>3</td>\n",
       "      <td>0</td>\n",
       "      <td>0.0</td>\n",
       "    </tr>\n",
       "    <tr>\n",
       "      <th>17247</th>\n",
       "      <td>satisfied</td>\n",
       "      <td>Female</td>\n",
       "      <td>Loyal Customer</td>\n",
       "      <td>54</td>\n",
       "      <td>Personal Travel</td>\n",
       "      <td>Eco</td>\n",
       "      <td>819</td>\n",
       "      <td>2</td>\n",
       "      <td>2</td>\n",
       "      <td>2</td>\n",
       "      <td>...</td>\n",
       "      <td>4</td>\n",
       "      <td>4</td>\n",
       "      <td>1</td>\n",
       "      <td>3</td>\n",
       "      <td>2</td>\n",
       "      <td>1</td>\n",
       "      <td>5</td>\n",
       "      <td>4</td>\n",
       "      <td>5</td>\n",
       "      <td>2.0</td>\n",
       "    </tr>\n",
       "    <tr>\n",
       "      <th>3736</th>\n",
       "      <td>satisfied</td>\n",
       "      <td>Female</td>\n",
       "      <td>Loyal Customer</td>\n",
       "      <td>13</td>\n",
       "      <td>Personal Travel</td>\n",
       "      <td>Eco</td>\n",
       "      <td>3872</td>\n",
       "      <td>0</td>\n",
       "      <td>0</td>\n",
       "      <td>0</td>\n",
       "      <td>...</td>\n",
       "      <td>4</td>\n",
       "      <td>5</td>\n",
       "      <td>5</td>\n",
       "      <td>5</td>\n",
       "      <td>5</td>\n",
       "      <td>4</td>\n",
       "      <td>5</td>\n",
       "      <td>4</td>\n",
       "      <td>0</td>\n",
       "      <td>0.0</td>\n",
       "    </tr>\n",
       "    <tr>\n",
       "      <th>83786</th>\n",
       "      <td>dissatisfied</td>\n",
       "      <td>Male</td>\n",
       "      <td>Loyal Customer</td>\n",
       "      <td>22</td>\n",
       "      <td>Business travel</td>\n",
       "      <td>Business</td>\n",
       "      <td>1977</td>\n",
       "      <td>3</td>\n",
       "      <td>3</td>\n",
       "      <td>3</td>\n",
       "      <td>...</td>\n",
       "      <td>3</td>\n",
       "      <td>1</td>\n",
       "      <td>5</td>\n",
       "      <td>4</td>\n",
       "      <td>3</td>\n",
       "      <td>3</td>\n",
       "      <td>2</td>\n",
       "      <td>3</td>\n",
       "      <td>116</td>\n",
       "      <td>177.0</td>\n",
       "    </tr>\n",
       "  </tbody>\n",
       "</table>\n",
       "<p>10 rows × 23 columns</p>\n",
       "</div>"
      ],
      "text/plain": [
       "        satisfaction  Gender      Customer Type  Age   Type of Travel  \\\n",
       "129054     satisfied    Male     Loyal Customer   48  Business travel   \n",
       "12885      satisfied  Female     Loyal Customer   41  Personal Travel   \n",
       "71352   dissatisfied    Male     Loyal Customer   49  Business travel   \n",
       "81007   dissatisfied  Female     Loyal Customer   32  Business travel   \n",
       "45902   dissatisfied  Female  disloyal Customer   43  Business travel   \n",
       "57101      satisfied  Female  disloyal Customer   22  Business travel   \n",
       "91611      satisfied  Female     Loyal Customer   50  Business travel   \n",
       "17247      satisfied  Female     Loyal Customer   54  Personal Travel   \n",
       "3736       satisfied  Female     Loyal Customer   13  Personal Travel   \n",
       "83786   dissatisfied    Male     Loyal Customer   22  Business travel   \n",
       "\n",
       "           Class  Flight Distance  Seat comfort  \\\n",
       "129054  Business             3562             5   \n",
       "12885        Eco             3799             4   \n",
       "71352        Eco             2050             2   \n",
       "81007   Eco Plus             2046             3   \n",
       "45902   Business             3384             2   \n",
       "57101   Business             1337             4   \n",
       "91611   Business             2804             1   \n",
       "17247        Eco              819             2   \n",
       "3736         Eco             3872             0   \n",
       "83786   Business             1977             3   \n",
       "\n",
       "        Departure/Arrival time convenient  Food and drink  ...  \\\n",
       "129054                                  1               5  ...   \n",
       "12885                                   4               4  ...   \n",
       "71352                                   2               2  ...   \n",
       "81007                                   1               1  ...   \n",
       "45902                                   2               2  ...   \n",
       "57101                                   0               4  ...   \n",
       "91611                                   1               1  ...   \n",
       "17247                                   2               2  ...   \n",
       "3736                                    0               0  ...   \n",
       "83786                                   3               3  ...   \n",
       "\n",
       "        Online support  Ease of Online booking  On-board service  \\\n",
       "129054               5                       5                 5   \n",
       "12885                5                       4                 4   \n",
       "71352                2                       2                 4   \n",
       "81007                3                       3                 3   \n",
       "45902                4                       4                 5   \n",
       "57101                4                       4                 1   \n",
       "91611                5                       4                 4   \n",
       "17247                4                       4                 1   \n",
       "3736                 4                       5                 5   \n",
       "83786                3                       1                 5   \n",
       "\n",
       "        Leg room service  Baggage handling  Checkin service  Cleanliness  \\\n",
       "129054                 5                 5                4            5   \n",
       "12885                  4                 4                2            4   \n",
       "71352                  3                 3                1            2   \n",
       "81007                  4                 3                3            2   \n",
       "45902                  3                 5                5            4   \n",
       "57101                  5                 4                1            5   \n",
       "91611                  4                 4                4            4   \n",
       "17247                  3                 2                1            5   \n",
       "3736                   5                 5                4            5   \n",
       "83786                  4                 3                3            2   \n",
       "\n",
       "        Online boarding  Departure Delay in Minutes  Arrival Delay in Minutes  \n",
       "129054                3                           0                       1.0  \n",
       "12885                 3                           0                       0.0  \n",
       "71352                 2                           0                       0.0  \n",
       "81007                 3                          25                      10.0  \n",
       "45902                 4                          10                      21.0  \n",
       "57101                 4                           0                       0.0  \n",
       "91611                 3                           0                       0.0  \n",
       "17247                 4                           5                       2.0  \n",
       "3736                  4                           0                       0.0  \n",
       "83786                 3                         116                     177.0  \n",
       "\n",
       "[10 rows x 23 columns]"
      ]
     },
     "execution_count": 4,
     "metadata": {},
     "output_type": "execute_result"
    }
   ],
   "source": [
    "invistico_Airline.sample(10)"
   ]
  },
  {
   "cell_type": "markdown",
   "id": "73c947e9-541c-4078-9fc6-58fe97256449",
   "metadata": {
    "jp-MarkdownHeadingCollapsed": true,
    "tags": []
   },
   "source": [
    "-----------------------\n",
    "## Transformación de variables categóricas a numéricas"
   ]
  },
  {
   "cell_type": "code",
   "execution_count": 7,
   "id": "cde34169-20e1-4c50-bf5a-fdecfd707c89",
   "metadata": {},
   "outputs": [
    {
     "data": {
      "text/plain": [
       "Index(['satisfaction', 'Gender', 'Customer Type', 'Age', 'Type of Travel',\n",
       "       'Class', 'Flight Distance', 'Seat comfort',\n",
       "       'Departure/Arrival time convenient', 'Food and drink', 'Gate location',\n",
       "       'Inflight wifi service', 'Inflight entertainment', 'Online support',\n",
       "       'Ease of Online booking', 'On-board service', 'Leg room service',\n",
       "       'Baggage handling', 'Checkin service', 'Cleanliness', 'Online boarding',\n",
       "       'Departure Delay in Minutes', 'Arrival Delay in Minutes',\n",
       "       'nSatisfaction', 'nGender', 'nCustomerType', 'nGrupoEtario',\n",
       "       'GrupoEtario', 'nTypeOfTravel', 'nClass'],\n",
       "      dtype='object')"
      ]
     },
     "execution_count": 7,
     "metadata": {},
     "output_type": "execute_result"
    }
   ],
   "source": [
    "invistico_Airline.columns"
   ]
  },
  {
   "cell_type": "code",
   "execution_count": 6,
   "id": "5b63ea22-5d37-44da-a01b-bfa0dbcb1fca",
   "metadata": {},
   "outputs": [],
   "source": [
    "# satisfaction\n",
    "# 0=dissatisfied, 1=satisfied\n",
    "invistico_Airline['nSatisfaction'] = invistico_Airline['satisfaction'].apply(lambda value: 0 if value == 'dissatisfied' else 1)\n",
    "\n",
    "# Gender\n",
    "# 0=Female, 1=Male\n",
    "invistico_Airline['nGender'] = invistico_Airline['Gender'].apply(lambda value: 0 if value == 'Female' else 1)\n",
    "\n",
    "# Customer Type\n",
    "# 0=Loyal Customer, 1=disloyal Customer\n",
    "invistico_Airline['nCustomerType'] = invistico_Airline['Customer Type'].apply(lambda value: 0 if value == 'Loyal Customer' else 1)\n",
    "\n",
    "# Age\n",
    "#Grupos etarios: 0=00 a 09 niños, 1=10 a 19 adolescente, 2=20 a 59 adulto y 3=59 a nn adulto mayor\n",
    "invistico_Airline['nGrupoEtario'] = invistico_Airline['Age'].apply(lambda value: 0 if value < 10 else 1 if value < 20 else 2 if value < 60 else 3)\n",
    "invistico_Airline['GrupoEtario'] = invistico_Airline['Age'].apply(lambda value: 'niño' if value < 10 else 'adolescente' if value < 20 else 'adulto' if value < 60 else 'adulto mayor')\n",
    "\n",
    "\n",
    "# Type of Travel\n",
    "# 0=Business travel, 1=Personal Travel\n",
    "invistico_Airline['nTypeOfTravel'] = invistico_Airline['Type of Travel'].apply(lambda value: 0 if value == 'Business travel' else 1)\n",
    "\n",
    "# Class\n",
    "# 0=Business, 1=Eco, 2=Eco Plus   \n",
    "invistico_Airline['nClass'] = invistico_Airline['Class'].apply(lambda value: 0 if value == 'Business' else 1 if value == 'Eco' else 2)\n",
    "\n",
    "# Flight Distance\n",
    "\n",
    "# Seat comfort\n",
    "# Departure/Arrival time convenient\n",
    "# Food and drink\n",
    "# Gate location\n",
    "# Inflight wifi service\n",
    "# Inflight entertainment\n",
    "# Online support\n",
    "# Ease of Online booking\n",
    "# On-board service\n",
    "# Leg room service\n",
    "# Baggage handling\n",
    "# Checkin service\n",
    "# Cleanliness\n",
    "# Online boarding\n",
    "\n",
    "# Departure Delay in Minutes\n",
    "# Arrival Delay in Minutes'"
   ]
  },
  {
   "cell_type": "code",
   "execution_count": null,
   "id": "b25ac744-2d9d-4aa1-83c5-94a1ec384c1f",
   "metadata": {},
   "outputs": [],
   "source": [
    "#invistico_Airline.groupby(['satisfaction', 'nSatisfaction']).count()['Age']\n",
    "#invistico_Airline.groupby(['Gender', 'nGender']).count()['Age']\n",
    "#invistico_Airline.groupby(['Customer Type', 'nCustomerType']).count()['Age']\n",
    "#invistico_Airline.groupby(['Type of Travel', 'nTypeOfTravel']).count()['Age']\n",
    "invistico_Airline.groupby(['Class', 'nClass']).count()['Age']\n"
   ]
  },
  {
   "cell_type": "code",
   "execution_count": 9,
   "id": "7ada2611-84bd-47aa-afc2-4675a23a538c",
   "metadata": {},
   "outputs": [
    {
     "data": {
      "text/html": [
       "<div>\n",
       "<style scoped>\n",
       "    .dataframe tbody tr th:only-of-type {\n",
       "        vertical-align: middle;\n",
       "    }\n",
       "\n",
       "    .dataframe tbody tr th {\n",
       "        vertical-align: top;\n",
       "    }\n",
       "\n",
       "    .dataframe thead th {\n",
       "        text-align: right;\n",
       "    }\n",
       "</style>\n",
       "<table border=\"1\" class=\"dataframe\">\n",
       "  <thead>\n",
       "    <tr style=\"text-align: right;\">\n",
       "      <th></th>\n",
       "      <th>satisfaction</th>\n",
       "      <th>Gender</th>\n",
       "      <th>Customer Type</th>\n",
       "      <th>Age</th>\n",
       "      <th>Type of Travel</th>\n",
       "      <th>Class</th>\n",
       "      <th>Flight Distance</th>\n",
       "      <th>Seat comfort</th>\n",
       "      <th>Departure/Arrival time convenient</th>\n",
       "      <th>Food and drink</th>\n",
       "      <th>...</th>\n",
       "      <th>Online boarding</th>\n",
       "      <th>Departure Delay in Minutes</th>\n",
       "      <th>Arrival Delay in Minutes</th>\n",
       "      <th>nSatisfaction</th>\n",
       "      <th>nGender</th>\n",
       "      <th>nCustomerType</th>\n",
       "      <th>nGrupoEtario</th>\n",
       "      <th>GrupoEtario</th>\n",
       "      <th>nTypeOfTravel</th>\n",
       "      <th>nClass</th>\n",
       "    </tr>\n",
       "  </thead>\n",
       "  <tbody>\n",
       "    <tr>\n",
       "      <th>5223</th>\n",
       "      <td>dissatisfied</td>\n",
       "      <td>Male</td>\n",
       "      <td>Loyal Customer</td>\n",
       "      <td>60</td>\n",
       "      <td>Personal Travel</td>\n",
       "      <td>Eco</td>\n",
       "      <td>2034</td>\n",
       "      <td>1</td>\n",
       "      <td>4</td>\n",
       "      <td>1</td>\n",
       "      <td>...</td>\n",
       "      <td>4</td>\n",
       "      <td>0</td>\n",
       "      <td>4.0</td>\n",
       "      <td>0</td>\n",
       "      <td>1</td>\n",
       "      <td>0</td>\n",
       "      <td>3</td>\n",
       "      <td>adulto mayor</td>\n",
       "      <td>1</td>\n",
       "      <td>1</td>\n",
       "    </tr>\n",
       "    <tr>\n",
       "      <th>94241</th>\n",
       "      <td>satisfied</td>\n",
       "      <td>Male</td>\n",
       "      <td>Loyal Customer</td>\n",
       "      <td>33</td>\n",
       "      <td>Business travel</td>\n",
       "      <td>Business</td>\n",
       "      <td>3649</td>\n",
       "      <td>5</td>\n",
       "      <td>5</td>\n",
       "      <td>5</td>\n",
       "      <td>...</td>\n",
       "      <td>4</td>\n",
       "      <td>0</td>\n",
       "      <td>0.0</td>\n",
       "      <td>1</td>\n",
       "      <td>1</td>\n",
       "      <td>0</td>\n",
       "      <td>2</td>\n",
       "      <td>adulto</td>\n",
       "      <td>0</td>\n",
       "      <td>0</td>\n",
       "    </tr>\n",
       "    <tr>\n",
       "      <th>61874</th>\n",
       "      <td>satisfied</td>\n",
       "      <td>Male</td>\n",
       "      <td>disloyal Customer</td>\n",
       "      <td>22</td>\n",
       "      <td>Business travel</td>\n",
       "      <td>Business</td>\n",
       "      <td>2022</td>\n",
       "      <td>5</td>\n",
       "      <td>0</td>\n",
       "      <td>5</td>\n",
       "      <td>...</td>\n",
       "      <td>5</td>\n",
       "      <td>0</td>\n",
       "      <td>0.0</td>\n",
       "      <td>1</td>\n",
       "      <td>1</td>\n",
       "      <td>1</td>\n",
       "      <td>2</td>\n",
       "      <td>adulto</td>\n",
       "      <td>0</td>\n",
       "      <td>0</td>\n",
       "    </tr>\n",
       "    <tr>\n",
       "      <th>103622</th>\n",
       "      <td>satisfied</td>\n",
       "      <td>Male</td>\n",
       "      <td>Loyal Customer</td>\n",
       "      <td>22</td>\n",
       "      <td>Business travel</td>\n",
       "      <td>Business</td>\n",
       "      <td>3797</td>\n",
       "      <td>5</td>\n",
       "      <td>1</td>\n",
       "      <td>5</td>\n",
       "      <td>...</td>\n",
       "      <td>4</td>\n",
       "      <td>28</td>\n",
       "      <td>34.0</td>\n",
       "      <td>1</td>\n",
       "      <td>1</td>\n",
       "      <td>0</td>\n",
       "      <td>2</td>\n",
       "      <td>adulto</td>\n",
       "      <td>0</td>\n",
       "      <td>0</td>\n",
       "    </tr>\n",
       "    <tr>\n",
       "      <th>69772</th>\n",
       "      <td>satisfied</td>\n",
       "      <td>Male</td>\n",
       "      <td>Loyal Customer</td>\n",
       "      <td>77</td>\n",
       "      <td>Business travel</td>\n",
       "      <td>Business</td>\n",
       "      <td>2382</td>\n",
       "      <td>3</td>\n",
       "      <td>3</td>\n",
       "      <td>5</td>\n",
       "      <td>...</td>\n",
       "      <td>3</td>\n",
       "      <td>0</td>\n",
       "      <td>10.0</td>\n",
       "      <td>1</td>\n",
       "      <td>1</td>\n",
       "      <td>0</td>\n",
       "      <td>3</td>\n",
       "      <td>adulto mayor</td>\n",
       "      <td>0</td>\n",
       "      <td>0</td>\n",
       "    </tr>\n",
       "    <tr>\n",
       "      <th>30393</th>\n",
       "      <td>dissatisfied</td>\n",
       "      <td>Male</td>\n",
       "      <td>Loyal Customer</td>\n",
       "      <td>59</td>\n",
       "      <td>Personal Travel</td>\n",
       "      <td>Eco</td>\n",
       "      <td>1490</td>\n",
       "      <td>3</td>\n",
       "      <td>5</td>\n",
       "      <td>3</td>\n",
       "      <td>...</td>\n",
       "      <td>5</td>\n",
       "      <td>0</td>\n",
       "      <td>0.0</td>\n",
       "      <td>0</td>\n",
       "      <td>1</td>\n",
       "      <td>0</td>\n",
       "      <td>2</td>\n",
       "      <td>adulto</td>\n",
       "      <td>1</td>\n",
       "      <td>1</td>\n",
       "    </tr>\n",
       "    <tr>\n",
       "      <th>14181</th>\n",
       "      <td>satisfied</td>\n",
       "      <td>Female</td>\n",
       "      <td>Loyal Customer</td>\n",
       "      <td>54</td>\n",
       "      <td>Personal Travel</td>\n",
       "      <td>Eco</td>\n",
       "      <td>552</td>\n",
       "      <td>2</td>\n",
       "      <td>2</td>\n",
       "      <td>2</td>\n",
       "      <td>...</td>\n",
       "      <td>3</td>\n",
       "      <td>0</td>\n",
       "      <td>0.0</td>\n",
       "      <td>1</td>\n",
       "      <td>0</td>\n",
       "      <td>0</td>\n",
       "      <td>2</td>\n",
       "      <td>adulto</td>\n",
       "      <td>1</td>\n",
       "      <td>1</td>\n",
       "    </tr>\n",
       "    <tr>\n",
       "      <th>38343</th>\n",
       "      <td>dissatisfied</td>\n",
       "      <td>Male</td>\n",
       "      <td>Loyal Customer</td>\n",
       "      <td>20</td>\n",
       "      <td>Personal Travel</td>\n",
       "      <td>Eco</td>\n",
       "      <td>2489</td>\n",
       "      <td>4</td>\n",
       "      <td>5</td>\n",
       "      <td>5</td>\n",
       "      <td>...</td>\n",
       "      <td>1</td>\n",
       "      <td>41</td>\n",
       "      <td>32.0</td>\n",
       "      <td>0</td>\n",
       "      <td>1</td>\n",
       "      <td>0</td>\n",
       "      <td>2</td>\n",
       "      <td>adulto</td>\n",
       "      <td>1</td>\n",
       "      <td>1</td>\n",
       "    </tr>\n",
       "    <tr>\n",
       "      <th>33813</th>\n",
       "      <td>dissatisfied</td>\n",
       "      <td>Female</td>\n",
       "      <td>Loyal Customer</td>\n",
       "      <td>52</td>\n",
       "      <td>Personal Travel</td>\n",
       "      <td>Eco</td>\n",
       "      <td>1875</td>\n",
       "      <td>4</td>\n",
       "      <td>3</td>\n",
       "      <td>4</td>\n",
       "      <td>...</td>\n",
       "      <td>4</td>\n",
       "      <td>1</td>\n",
       "      <td>0.0</td>\n",
       "      <td>0</td>\n",
       "      <td>0</td>\n",
       "      <td>0</td>\n",
       "      <td>2</td>\n",
       "      <td>adulto</td>\n",
       "      <td>1</td>\n",
       "      <td>1</td>\n",
       "    </tr>\n",
       "    <tr>\n",
       "      <th>8463</th>\n",
       "      <td>dissatisfied</td>\n",
       "      <td>Male</td>\n",
       "      <td>Loyal Customer</td>\n",
       "      <td>67</td>\n",
       "      <td>Personal Travel</td>\n",
       "      <td>Eco</td>\n",
       "      <td>1430</td>\n",
       "      <td>2</td>\n",
       "      <td>1</td>\n",
       "      <td>2</td>\n",
       "      <td>...</td>\n",
       "      <td>2</td>\n",
       "      <td>0</td>\n",
       "      <td>0.0</td>\n",
       "      <td>0</td>\n",
       "      <td>1</td>\n",
       "      <td>0</td>\n",
       "      <td>3</td>\n",
       "      <td>adulto mayor</td>\n",
       "      <td>1</td>\n",
       "      <td>1</td>\n",
       "    </tr>\n",
       "  </tbody>\n",
       "</table>\n",
       "<p>10 rows × 30 columns</p>\n",
       "</div>"
      ],
      "text/plain": [
       "        satisfaction  Gender      Customer Type  Age   Type of Travel  \\\n",
       "5223    dissatisfied    Male     Loyal Customer   60  Personal Travel   \n",
       "94241      satisfied    Male     Loyal Customer   33  Business travel   \n",
       "61874      satisfied    Male  disloyal Customer   22  Business travel   \n",
       "103622     satisfied    Male     Loyal Customer   22  Business travel   \n",
       "69772      satisfied    Male     Loyal Customer   77  Business travel   \n",
       "30393   dissatisfied    Male     Loyal Customer   59  Personal Travel   \n",
       "14181      satisfied  Female     Loyal Customer   54  Personal Travel   \n",
       "38343   dissatisfied    Male     Loyal Customer   20  Personal Travel   \n",
       "33813   dissatisfied  Female     Loyal Customer   52  Personal Travel   \n",
       "8463    dissatisfied    Male     Loyal Customer   67  Personal Travel   \n",
       "\n",
       "           Class  Flight Distance  Seat comfort  \\\n",
       "5223         Eco             2034             1   \n",
       "94241   Business             3649             5   \n",
       "61874   Business             2022             5   \n",
       "103622  Business             3797             5   \n",
       "69772   Business             2382             3   \n",
       "30393        Eco             1490             3   \n",
       "14181        Eco              552             2   \n",
       "38343        Eco             2489             4   \n",
       "33813        Eco             1875             4   \n",
       "8463         Eco             1430             2   \n",
       "\n",
       "        Departure/Arrival time convenient  Food and drink  ...  \\\n",
       "5223                                    4               1  ...   \n",
       "94241                                   5               5  ...   \n",
       "61874                                   0               5  ...   \n",
       "103622                                  1               5  ...   \n",
       "69772                                   3               5  ...   \n",
       "30393                                   5               3  ...   \n",
       "14181                                   2               2  ...   \n",
       "38343                                   5               5  ...   \n",
       "33813                                   3               4  ...   \n",
       "8463                                    1               2  ...   \n",
       "\n",
       "        Online boarding  Departure Delay in Minutes  Arrival Delay in Minutes  \\\n",
       "5223                  4                           0                       4.0   \n",
       "94241                 4                           0                       0.0   \n",
       "61874                 5                           0                       0.0   \n",
       "103622                4                          28                      34.0   \n",
       "69772                 3                           0                      10.0   \n",
       "30393                 5                           0                       0.0   \n",
       "14181                 3                           0                       0.0   \n",
       "38343                 1                          41                      32.0   \n",
       "33813                 4                           1                       0.0   \n",
       "8463                  2                           0                       0.0   \n",
       "\n",
       "        nSatisfaction  nGender  nCustomerType  nGrupoEtario   GrupoEtario  \\\n",
       "5223                0        1              0             3  adulto mayor   \n",
       "94241               1        1              0             2        adulto   \n",
       "61874               1        1              1             2        adulto   \n",
       "103622              1        1              0             2        adulto   \n",
       "69772               1        1              0             3  adulto mayor   \n",
       "30393               0        1              0             2        adulto   \n",
       "14181               1        0              0             2        adulto   \n",
       "38343               0        1              0             2        adulto   \n",
       "33813               0        0              0             2        adulto   \n",
       "8463                0        1              0             3  adulto mayor   \n",
       "\n",
       "        nTypeOfTravel  nClass  \n",
       "5223                1       1  \n",
       "94241               0       0  \n",
       "61874               0       0  \n",
       "103622              0       0  \n",
       "69772               0       0  \n",
       "30393               1       1  \n",
       "14181               1       1  \n",
       "38343               1       1  \n",
       "33813               1       1  \n",
       "8463                1       1  \n",
       "\n",
       "[10 rows x 30 columns]"
      ]
     },
     "execution_count": 9,
     "metadata": {},
     "output_type": "execute_result"
    }
   ],
   "source": [
    "invistico_Airline.sample(10)"
   ]
  },
  {
   "cell_type": "code",
   "execution_count": 8,
   "id": "4dd953bc-c3cd-4de8-8503-1b4d3cea4de4",
   "metadata": {},
   "outputs": [
    {
     "data": {
      "image/jpeg": "[encoded data removed]",
      "text/plain": [
       "<IPython.core.display.Image object>"
      ]
     },
     "metadata": {},
     "output_type": "display_data"
    }
   ],
   "source": [
    "#from IPython.display import display, Image\n",
    "display(Image(filename='OneHotEncoder.jpg'))"
   ]
  },
  {
   "cell_type": "code",
   "execution_count": null,
   "id": "94362e0c-116d-419a-ab11-b61d14692073",
   "metadata": {},
   "outputs": [],
   "source": [
    "#ohe = OneHotEncoder(handle_unknown='ignore',sparse=False)"
   ]
  },
  {
   "cell_type": "markdown",
   "id": "117f8bc7-1a0f-4ab3-a372-47504a356c31",
   "metadata": {
    "tags": []
   },
   "source": [
    "#### Corregir valores nulos"
   ]
  },
  {
   "cell_type": "code",
   "execution_count": 10,
   "id": "8654d236-b1bd-4fc8-aafb-a1bb836a7c1d",
   "metadata": {},
   "outputs": [
    {
     "name": "stdout",
     "output_type": "stream",
     "text": [
      "['Arrival Delay in Minutes']\n"
     ]
    }
   ],
   "source": [
    "#Ver columnas con valores nulos\n",
    "nan_values = invistico_Airline.isna()\n",
    "nan_columns = nan_values.any()\n",
    "\n",
    "columns_with_nan = invistico_Airline.columns[nan_columns].tolist()\n",
    "print(columns_with_nan)"
   ]
  },
  {
   "cell_type": "code",
   "execution_count": 11,
   "id": "c486bfe7-526d-4eec-aed4-2d03aead8e44",
   "metadata": {},
   "outputs": [],
   "source": [
    "# Arrival Delay in Minutes\n",
    "invistico_Airline['Arrival Delay in Minutes'].fillna(0, inplace = True) "
   ]
  },
  {
   "cell_type": "code",
   "execution_count": null,
   "id": "9527ac66-b669-41a3-947c-792eca6e0b0f",
   "metadata": {},
   "outputs": [],
   "source": [
    "invistico_Airline['Arrival Delay in Minutes']"
   ]
  },
  {
   "cell_type": "markdown",
   "id": "cbb89647-3dc7-4d20-b9e0-bfee0542fdbd",
   "metadata": {
    "tags": []
   },
   "source": [
    "#### Comentario intermedio del desarrollo\n",
    "\n",
    "A este punto del notebook\n",
    "- Se transformaron los datos categóricos **sin la utilización de OneHotEncoder**. Se hizo con la utilización de la función apply. \n",
    "- Por otra parte se actualizaron los únicos valores nulos encontrados en el atributo \"Arrival Delay in Minutes\" por el valor 0 (cero).\n",
    "\n",
    "\n"
   ]
  },
  {
   "cell_type": "markdown",
   "id": "ca13e9cd-43bc-46cb-ad40-fc1eb884aa06",
   "metadata": {
    "tags": []
   },
   "source": [
    "-----------------------\n",
    "## Evaluación del baseline"
   ]
  },
  {
   "cell_type": "markdown",
   "id": "572d2514-940c-4d67-8857-504e26387abe",
   "metadata": {
    "jp-MarkdownHeadingCollapsed": true,
    "tags": []
   },
   "source": [
    "##### Análisis features vs target"
   ]
  },
  {
   "cell_type": "code",
   "execution_count": null,
   "id": "4f213272-72d2-4f48-98e1-1a5ff4b636b1",
   "metadata": {},
   "outputs": [],
   "source": [
    "invistico_Airline.columns"
   ]
  },
  {
   "cell_type": "code",
   "execution_count": null,
   "id": "41cb14f4-add7-4d34-ae22-d3f984342a5a",
   "metadata": {},
   "outputs": [],
   "source": [
    "#sns.boxplot(x=invistico_Airline.nSatisfaction, y=invistico_Airline.nCustomerType)\n",
    "grouped_gender = invistico_Airline.groupby(['GrupoEtario', 'satisfaction']).count()['Age']\n",
    "print(grouped_gender.unstack(level=0))\n",
    "(grouped_gender.unstack(level=0).plot.bar(figsize=(15, 10)))\n",
    "plt.show()"
   ]
  },
  {
   "cell_type": "code",
   "execution_count": null,
   "id": "b2dbee05-5d82-4eea-be3f-c5bda5944a50",
   "metadata": {},
   "outputs": [],
   "source": [
    "invistico_Airline_NotSatisfaction = invistico_Airline.query('nSatisfaction == 0')"
   ]
  },
  {
   "cell_type": "code",
   "execution_count": null,
   "id": "e3e4b9b6-0baa-456a-a23d-4eafcb78ae91",
   "metadata": {},
   "outputs": [],
   "source": [
    "invistico_Airline_NotSatisfaction.shape"
   ]
  },
  {
   "cell_type": "code",
   "execution_count": null,
   "id": "0e4c123e-cd54-4f24-b1bd-1ca25a7fca7b",
   "metadata": {},
   "outputs": [],
   "source": [
    "grouped_gender = invistico_Airline_NotSatisfaction.groupby(['GrupoEtario', 'Inflight entertainment']).count()['Age']\n",
    "print(grouped_gender.unstack(level=0))\n",
    "(grouped_gender.unstack(level=0).plot.bar(figsize=(15, 10)))\n",
    "plt.show()"
   ]
  },
  {
   "cell_type": "code",
   "execution_count": null,
   "id": "d30825df-0d26-4385-a228-2a86306f4e6b",
   "metadata": {},
   "outputs": [],
   "source": [
    "grouped_gender = invistico_Airline_NotSatisfaction.groupby(['GrupoEtario', 'Seat comfort']).count()['Age']\n",
    "print(grouped_gender.unstack(level=0))\n",
    "(grouped_gender.unstack(level=0).plot.bar(figsize=(15, 10)))\n",
    "plt.show()"
   ]
  },
  {
   "cell_type": "code",
   "execution_count": null,
   "id": "dfd46bfd-1337-44a3-bb37-e5cf5d58eaf5",
   "metadata": {},
   "outputs": [],
   "source": [
    "grouped_gender = invistico_Airline.groupby(['satisfaction', 'Customer Type', 'Type of Travel', 'Class', 'Gender']).count()['Age']\n",
    "print(grouped_gender.unstack(level=0))\n",
    "(grouped_gender.unstack(level=0).plot.bar(figsize=(15, 10)))\n",
    "plt.show()"
   ]
  },
  {
   "cell_type": "code",
   "execution_count": null,
   "id": "c14cd5e4-b113-4abb-a72a-364dd3e9a419",
   "metadata": {},
   "outputs": [],
   "source": [
    "grouped_gender = invistico_Airline.groupby(['Gender', 'nSatisfaction']).count()['Age']\n",
    "print(grouped_gender.unstack(level=0))\n",
    "(grouped_gender.unstack(level=0).plot.bar(figsize=(15, 10)))\n",
    "plt.show()"
   ]
  },
  {
   "cell_type": "code",
   "execution_count": null,
   "id": "90161f58-193e-40e2-9be8-861d75ec91b6",
   "metadata": {},
   "outputs": [],
   "source": [
    "grouped_gender = invistico_Airline.groupby(['Gender', 'nSatisfactionBaselinePredict']).count()['Age']\n",
    "print(grouped_gender.unstack(level=0))\n",
    "(grouped_gender.unstack(level=0).plot.bar(figsize=(15, 10)))\n",
    "plt.show()"
   ]
  },
  {
   "cell_type": "markdown",
   "id": "64aa1404-3563-429b-adf8-1d3a32d6ceb0",
   "metadata": {
    "tags": []
   },
   "source": [
    "#### Función predictora para línea base"
   ]
  },
  {
   "cell_type": "code",
   "execution_count": null,
   "id": "c36d687e-343d-465b-a832-f35670644b92",
   "metadata": {},
   "outputs": [],
   "source": [
    "def baseline_predict(varCustomerType, varTypeOfTravel, varClass, varGender):\n",
    "    \n",
    "    #varCustomerType values: Loyal Customer, disloyal Customer\n",
    "    #varTypeOfTravel values: Business travel, Personal Travel\n",
    "    #varClass values: Business, Eco, Eco Plus\n",
    "    #varGender values: Female, Male\n",
    "    \n",
    "    #return satisfaction: 0=dissatisfied, 1=satisfied\n",
    "    \n",
    "    if (varCustomerType == 'Loyal Customer' and varTypeOfTravel == 'Personal travel' and varClass == 'Eco' and varGender == 'Male'):\n",
    "        \n",
    "        #Los pasajeros frecuentes en viaje personal que utilizan clase económica masculinos están insatisfechos.\n",
    "        return 0\n",
    "    \n",
    "    else:\n",
    "        if (varTypeOfTravel == 'Business travel' and varClass == 'Eco'):\n",
    "            \n",
    "            #Los pasajeros que viajan por negocios en clase económica están insatisfechos.\n",
    "            return 0\n",
    "        \n",
    "        else:\n",
    "            return 1"
   ]
  },
  {
   "cell_type": "code",
   "execution_count": 12,
   "id": "36874c6b-4971-4696-bd97-16aaff56f14e",
   "metadata": {},
   "outputs": [],
   "source": [
    "def baseline_predict(varTypeOfTravel, varClass, varInflightEntertainment, varSeatComfort):\n",
    "    \n",
    "    #varCustomerType values: Loyal Customer, disloyal Customer\n",
    "    #varTypeOfTravel values: Business travel, Personal Travel\n",
    "    #varClass values: Business, Eco, Eco Plus\n",
    "    #varGender values: Female, Male\n",
    "    #varInflightEntertainment: 0, 1, 2, 3, 4, 5\n",
    "    #varSeatComfort: 0, 1, 2, 3, 4, 5\n",
    "    \n",
    "    #return satisfaction: 0=dissatisfied, 1=satisfied\n",
    "    \n",
    "    if (varTypeOfTravel == 'Business travel' and varClass == 'Eco'):\n",
    "        \n",
    "        #Los pasajeros que viajan por negocios en clase económica están insatisfechos.\n",
    "        return 0\n",
    "    \n",
    "    else:\n",
    "        if (varInflightEntertainment < 2 or varSeatComfort < 2):\n",
    "            \n",
    "            #Los pasajeros que respondieron al item \"Inflight entertainment\" con una valoración de 0 a 2 estan insatisfechos\n",
    "            #Los pasajeros que respondieron al item \"Seat comfort\" con una valoración de 0 a 2 estan insatisfechos\n",
    "            return 0\n",
    "        \n",
    "        else:\n",
    "            return 1"
   ]
  },
  {
   "cell_type": "code",
   "execution_count": null,
   "id": "03e87b70-ec96-4cd3-b03d-b726d58ae499",
   "metadata": {},
   "outputs": [],
   "source": [
    "def baseline_predict(varX):\n",
    "    \n",
    "    #return satisfaction: 0=dissatisfied, 1=satisfied\n",
    "\n",
    "    if (varX['Type of Travel'] == 'Business travel' and (varX['Class'] == 'Eco' or varX['Class'] == 'Eco Plus')):\n",
    "        \n",
    "        #Los pasajeros que viajan por negocios en clase económica están insatisfechos.\n",
    "        return 0\n",
    "    else:\n",
    "        suma = varX['Seat comfort']\n",
    "        suma = suma + varX['Departure/Arrival time convenient']\n",
    "        suma = suma + varX['Food and drink']\n",
    "        suma = suma + varX['Gate location']\n",
    "        suma = suma + varX['Inflight wifi service']\n",
    "        suma = suma + varX['Inflight entertainment']\n",
    "        suma = suma + varX['Online support']\n",
    "        suma = suma + varX['Ease of Online booking']\n",
    "        suma = suma + varX['On-board service']\n",
    "        suma = suma + varX['Leg room service']\n",
    "        suma = suma + varX['Baggage handling']\n",
    "        suma = suma + varX['Checkin service']\n",
    "        suma = suma + varX['Cleanliness']\n",
    "        suma = suma + varX['Online boarding']\n",
    "        if (suma < 56):\n",
    "            return 0\n",
    "        else:\n",
    "            return 1"
   ]
  },
  {
   "cell_type": "code",
   "execution_count": 13,
   "id": "d5ea0ad2-a461-4b75-af5b-ced0087707d7",
   "metadata": {},
   "outputs": [
    {
     "name": "stdout",
     "output_type": "stream",
     "text": [
      "1    71087\n",
      "0    58793\n",
      "Name: nSatisfaction, dtype: int64\n",
      "1    79777\n",
      "0    50103\n",
      "Name: nSatisfactionBaselinePredict, dtype: int64\n",
      "True     75216\n",
      "False    54664\n",
      "Name: predict_comparation, dtype: int64\n",
      "nSatisfaction                     0      1\n",
      "nSatisfactionBaselinePredict              \n",
      "0                             27116  22987\n",
      "1                             31677  48100\n"
     ]
    },
    {
     "data": {
      "image/png": "[encoded data removed]",
      "text/plain": [
       "<Figure size 1080x720 with 1 Axes>"
      ]
     },
     "metadata": {
      "needs_background": "light"
     },
     "output_type": "display_data"
    }
   ],
   "source": [
    "#De esta manera estamos haciendo el predict que hacemos en sklearn.\n",
    "#invistico_Airline['nSatisfactionBaselinePredict'] = invistico_Airline.apply(lambda x: baseline_predict(x['Customer Type'], x['Type of Travel'], x['Class'], x['Gender']), axis=1)\n",
    "invistico_Airline['nSatisfactionBaselinePredict'] = invistico_Airline.apply(lambda x: baseline_predict(x['Type of Travel'], x['Class'], x['Inflight entertainment'], x['Seat comfort']), axis=1)\n",
    "#invistico_Airline['nSatisfactionBaselinePredict'] = invistico_Airline.apply(lambda x: baseline_predict(x['Type of Travel'], x['Class']), axis=1)\n",
    "#invistico_Airline['nSatisfactionBaselinePredict'] = invistico_Airline.apply(lambda x: baseline_predict(x), axis=1)\n",
    "\n",
    "invistico_Airline['predict_comparation'] = np.where(invistico_Airline.nSatisfaction == invistico_Airline.nSatisfactionBaselinePredict, True, False)\n",
    "\n",
    "print(invistico_Airline['nSatisfaction'].value_counts())\n",
    "print(invistico_Airline['nSatisfactionBaselinePredict'].value_counts())\n",
    "print(invistico_Airline['predict_comparation'].value_counts())\n",
    "\n",
    "grouped_gender = invistico_Airline.groupby(['nSatisfaction', 'nSatisfactionBaselinePredict']).count()['Age']\n",
    "print(grouped_gender.unstack(level=0))\n",
    "(grouped_gender.unstack(level=0).plot.bar(figsize=(15, 10)))\n",
    "plt.show()"
   ]
  },
  {
   "cell_type": "markdown",
   "id": "ab3f491b-b725-494b-9228-952ffcb73f2f",
   "metadata": {
    "tags": []
   },
   "source": [
    "#### Comentario intermedio del desarrollo\n",
    "\n",
    "A este punto del notebook se cuenta también con la variable objetivo definida como la linea base:\n",
    "- Gráfico de barras con varias características del dataset que sirve para desarrollar la función que servirá para establecer la línea base a utilizar\n",
    "- Función **baseline_predict**: Recibe los parámetros siguientes: Customer Type, Type of Travel, Class, Gender y establece que:\n",
    "    - Los pasajeros frecuentes en viaje personal que utilizan clase económica masculinos están insatisfechos.\n",
    "    - Los pasajeros que viajan por negocios en clase económica están insatisfechos.\n",
    "    - El resto esta satisfecho\n",
    "- **y_baseline_predict** = Se utiliza la nueva columna nSatisfactionBaselinePredict (Variable objetivo de la línea base)"
   ]
  },
  {
   "cell_type": "markdown",
   "id": "d407724d-47fe-4c34-a024-9b593afbd072",
   "metadata": {
    "tags": []
   },
   "source": [
    "-----------------------\n",
    "## Separación de conjuntos de datos en entrenamiento y evaluación"
   ]
  },
  {
   "cell_type": "code",
   "execution_count": 14,
   "id": "0a865f4f-1daf-43fb-9baa-cdb362d3ae7e",
   "metadata": {},
   "outputs": [],
   "source": [
    "# creamos lista de features\n",
    "feature_cols = ['nGender', 'nCustomerType', 'Age', 'nTypeOfTravel','nClass', 'Flight Distance', 'Seat comfort' \n",
    "                , 'Departure/Arrival time convenient', 'Food and drink', 'Gate location','Inflight wifi service', 'Inflight entertainment'\n",
    "                , 'Online support', 'Ease of Online booking', 'On-board service', 'Leg room service','Baggage handling', 'Checkin service'\n",
    "                , 'Cleanliness', 'Online boarding', 'Departure Delay in Minutes', 'Arrival Delay in Minutes']\n",
    "\n",
    "#feature_cols = ['Seat comfort', 'Departure/Arrival time convenient', 'Food and drink', 'Gate location','Inflight wifi service', 'Inflight entertainment'\n",
    "#                , 'Online support', 'Ease of Online booking', 'On-board service', 'Leg room service','Baggage handling', 'Checkin service'\n",
    "#                , 'Cleanliness', 'Online boarding']"
   ]
  },
  {
   "cell_type": "code",
   "execution_count": 15,
   "id": "250c02fe-97fb-44e4-b659-bc8e07dffb85",
   "metadata": {},
   "outputs": [],
   "source": [
    "# creamos nuevamente X e y\n",
    "X = invistico_Airline[feature_cols]\n",
    "#y = invistico_Airline.nSatisfactionBaselinePredict\n",
    "y = invistico_Airline.nSatisfaction"
   ]
  },
  {
   "cell_type": "code",
   "execution_count": 9,
   "id": "d140f73f-08d6-4a03-86e4-5c8853d2ed84",
   "metadata": {},
   "outputs": [
    {
     "ename": "NameError",
     "evalue": "name 'train_test_split' is not defined",
     "output_type": "error",
     "traceback": [
      "\u001b[1;31m---------------------------------------------------------------------------\u001b[0m",
      "\u001b[1;31mNameError\u001b[0m                                 Traceback (most recent call last)",
      "\u001b[1;32m~\\AppData\\Local\\Temp/ipykernel_13964/2598631021.py\u001b[0m in \u001b[0;36m<module>\u001b[1;34m\u001b[0m\n\u001b[0;32m      1\u001b[0m \u001b[1;31m# Definimos X e y para el set de entrenemiento y el de test\u001b[0m\u001b[1;33m\u001b[0m\u001b[1;33m\u001b[0m\u001b[0m\n\u001b[1;32m----> 2\u001b[1;33m \u001b[0mX_train\u001b[0m\u001b[1;33m,\u001b[0m \u001b[0mX_test\u001b[0m\u001b[1;33m,\u001b[0m \u001b[0my_train\u001b[0m\u001b[1;33m,\u001b[0m \u001b[0my_test\u001b[0m \u001b[1;33m=\u001b[0m \u001b[0mtrain_test_split\u001b[0m\u001b[1;33m(\u001b[0m\u001b[0mX\u001b[0m\u001b[1;33m,\u001b[0m \u001b[0my\u001b[0m\u001b[1;33m,\u001b[0m  \u001b[0mtest_size\u001b[0m\u001b[1;33m=\u001b[0m\u001b[1;36m0.33\u001b[0m\u001b[1;33m,\u001b[0m \u001b[0mrandom_state\u001b[0m\u001b[1;33m=\u001b[0m\u001b[1;36m319\u001b[0m\u001b[1;33m)\u001b[0m\u001b[1;33m\u001b[0m\u001b[1;33m\u001b[0m\u001b[0m\n\u001b[0m\u001b[0;32m      3\u001b[0m \u001b[1;33m\u001b[0m\u001b[0m\n\u001b[0;32m      4\u001b[0m \u001b[1;31m#En este punto tenemos y (original), y_train, y_test e y_baseline_predict (predict) para calcular las métricas y comparar los modelos.\u001b[0m\u001b[1;33m\u001b[0m\u001b[1;33m\u001b[0m\u001b[0m\n\u001b[0;32m      5\u001b[0m \u001b[0my_baseline_predict\u001b[0m \u001b[1;33m=\u001b[0m \u001b[0minvistico_Airline\u001b[0m\u001b[1;33m.\u001b[0m\u001b[0mfilter\u001b[0m\u001b[1;33m(\u001b[0m\u001b[0mitems\u001b[0m \u001b[1;33m=\u001b[0m \u001b[0my_test\u001b[0m\u001b[1;33m.\u001b[0m\u001b[0mindex\u001b[0m\u001b[1;33m,\u001b[0m \u001b[0maxis\u001b[0m\u001b[1;33m=\u001b[0m\u001b[1;36m0\u001b[0m\u001b[1;33m)\u001b[0m\u001b[1;33m[\u001b[0m\u001b[1;34m'nSatisfactionBaselinePredict'\u001b[0m\u001b[1;33m]\u001b[0m\u001b[1;33m\u001b[0m\u001b[1;33m\u001b[0m\u001b[0m\n",
      "\u001b[1;31mNameError\u001b[0m: name 'train_test_split' is not defined"
     ]
    }
   ],
   "source": [
    "# Definimos X e y para el set de entrenemiento y el de test\n",
    "X_train, X_test, y_train, y_test = train_test_split(X, y,  test_size=0.33, random_state=319)\n",
    "\n",
    "#En este punto tenemos y (original), y_train, y_test e y_baseline_predict (predict) para calcular las métricas y comparar los modelos.\n",
    "y_baseline_predict = invistico_Airline.filter(items = y_test.index, axis=0)['nSatisfactionBaselinePredict']\n",
    "\n"
   ]
  },
  {
   "cell_type": "code",
   "execution_count": 17,
   "id": "d53856fa-9931-4af8-b889-4c43cfca1ef3",
   "metadata": {},
   "outputs": [
    {
     "name": "stdout",
     "output_type": "stream",
     "text": [
      "X_train.shape = (87019, 22)\n",
      "X_test.shape = (42861, 22)\n",
      "y_train.shape = (87019,)\n",
      "y_test.shape = (42861,)\n",
      "y_baseline_predict.shape = (42861,)\n"
     ]
    }
   ],
   "source": [
    "print('X_train.shape =', X_train.shape)\n",
    "print('X_test.shape =', X_test.shape)\n",
    "print('y_train.shape =', y_train.shape)\n",
    "print('y_test.shape =', y_test.shape)\n",
    "print('y_baseline_predict.shape =', y_baseline_predict.shape)"
   ]
  },
  {
   "cell_type": "markdown",
   "id": "68a07b8e-9c68-47bc-af2d-b2656126ea83",
   "metadata": {},
   "source": [
    "#### Comentario intermedio del desarrollo\n",
    "\n",
    "A este punto del notebook se cuenta con los conjuntos de datos de entrenamiento y test. Se puede observar que:\n",
    "- X = Se utilizan todas las características del dataset con la salvedad de que las columnas categóricas se reemplazan por las nuevas columnas númericas correspondientes; a saber: Gender --> nGender, Customer Type --> nCustomerType, Type of Travel --> nTypeOfTravel y Class --> nClass.  (22 variables). El conjuto de features incluidos en X se los puede llamar ***Preditores***\n",
    "- y = Se utiliza la característica nSatisfaction que reemplaza a satisfaction que también es categórica (Variable objetivo o ***Target***)\n",
    "- Se observa que el tamaño del conjunto de test es 0.33\n",
    "- De los tres tipos de separación en *train* y *test* que vimos\n",
    "    - Validation Set (Hold-Out): En este enfoque mezclamos el dataset y utilizamos la mitad para entrenar y la otra mitad como set de validación\n",
    "    - Leave One Out Cross Validation (LOOCV): Este enfoque consiste en dejar afuera una observación la cual se usará para testear y utilizar el resto para poder entrenar\n",
    "    - K-Fold Cross Validation: Este enfoque consiste en separar el dataset en K-Folds y entrenar *K* veces el modelo utilizando *Ki* como set de validación\n",
    "    \n",
    "    Utilizamos ***Validation Set (Hold-Out)***"
   ]
  },
  {
   "cell_type": "markdown",
   "id": "5e18b8eb-6099-4ef7-8451-558836603186",
   "metadata": {
    "tags": []
   },
   "source": [
    "-----------------------\n",
    "## Entrenamiento y evaluación de al menos un modelo de Machine Learning."
   ]
  },
  {
   "cell_type": "markdown",
   "id": "9ae1b895-480c-47f1-942e-78298c90d649",
   "metadata": {
    "tags": []
   },
   "source": [
    "### Evaluación"
   ]
  },
  {
   "cell_type": "code",
   "execution_count": 18,
   "id": "74342b8d-feb9-4d00-9d62-7f8337440cb4",
   "metadata": {},
   "outputs": [],
   "source": [
    "#Creación de objeto para separacion de observaciones de train\n",
    "cv = KFold(n_splits=3, random_state=319, shuffle=True)"
   ]
  },
  {
   "cell_type": "code",
   "execution_count": 19,
   "id": "f59bd39e-5407-4fdf-b2bb-bd10c13c779c",
   "metadata": {},
   "outputs": [],
   "source": [
    "def evaluar_rendimiento(varModelo, varXTrain, varYTrain, varCV, varScoring, varNombre):\n",
    "    #s = cross_val_score(varModelo, varXTrain, varYTrain, cv=varCV, n_jobs=-1,scoring='precision')\n",
    "    cross_vs = cross_val_score(varModelo, varXTrain, varYTrain, cv=varCV, n_jobs=-1,scoring=varScoring)\n",
    "    print(\"Rendimiento de {}:\\t{:0.3} ± {:0.3}\".format(varNombre, cross_vs.mean().round(3), cross_vs.std().round(3)))"
   ]
  },
  {
   "cell_type": "code",
   "execution_count": 20,
   "id": "bf479f93-a96f-44d3-a5bb-cbeaed37fe4d",
   "metadata": {},
   "outputs": [
    {
     "name": "stdout",
     "output_type": "stream",
     "text": [
      "Rendimiento de Regresión Lógistica:\t0.776 ± 0.006\n",
      "Rendimiento de Árbol de decisión:\t0.937 ± 0.002\n",
      "Rendimiento de Bagging AD:\t0.965 ± 0.002\n",
      "Rendimiento de Random Forest:\t0.965 ± 0.001\n",
      "Rendimiento de Extra Trees:\t0.965 ± 0.001\n",
      "Rendimiento de AdaBoostClassifier:\t0.91 ± 0.002\n",
      "Rendimiento de GradientBoostingClassifier:\t0.93 ± 0.001\n"
     ]
    }
   ],
   "source": [
    "clf = LogisticRegression(C=1e10)\n",
    "dt = DecisionTreeClassifier(class_weight='balanced')\n",
    "bdt = BaggingClassifier(DecisionTreeClassifier())\n",
    "rf = RandomForestClassifier(class_weight='balanced',)\n",
    "et = ExtraTreesClassifier(class_weight='balanced')\n",
    "ab = AdaBoostClassifier()\n",
    "gb = GradientBoostingClassifier()\n",
    "#svc = SVC()\n",
    "\n",
    "evaluar_rendimiento(clf, X_train, y_train, cv, \"precision\", \"Regresión Lógistica\")\n",
    "evaluar_rendimiento(dt, X_train, y_train, cv, \"precision\", \"Árbol de decisión\")\n",
    "evaluar_rendimiento(bdt, X_train, y_train, cv, \"precision\", \"Bagging AD\")\n",
    "evaluar_rendimiento(rf, X_train, y_train, cv, \"precision\", \"Random Forest\")\n",
    "evaluar_rendimiento(et, X_train, y_train, cv, \"precision\", \"Extra Trees\")\n",
    "evaluar_rendimiento(ab, X_train, y_train, cv, \"precision\", \"AdaBoostClassifier\")\n",
    "evaluar_rendimiento(gb, X_train, y_train, cv, \"precision\", \"GradientBoostingClassifier\")\n",
    "#evaluar_rendimiento(svc, X_train, y_train, cv, \"precision\", \"Support Vector Machines\")\n",
    "\n",
    "#classifiers = [clf, dt, bdt, rf, et, ab, gb, svc]\n",
    "classifiers = [clf, dt, bdt, rf, et, ab, gb]"
   ]
  },
  {
   "cell_type": "code",
   "execution_count": 21,
   "id": "4517d550-5e83-4437-8b2a-60c9835929af",
   "metadata": {},
   "outputs": [
    {
     "data": {
      "text/plain": [
       "[LogisticRegression(C=10000000000.0),\n",
       " DecisionTreeClassifier(class_weight='balanced'),\n",
       " BaggingClassifier(base_estimator=DecisionTreeClassifier()),\n",
       " RandomForestClassifier(class_weight='balanced'),\n",
       " ExtraTreesClassifier(class_weight='balanced'),\n",
       " AdaBoostClassifier(),\n",
       " GradientBoostingClassifier()]"
      ]
     },
     "execution_count": 21,
     "metadata": {},
     "output_type": "execute_result"
    }
   ],
   "source": [
    "classifiers"
   ]
  },
  {
   "cell_type": "markdown",
   "id": "1dd795ff-6e17-47ae-9775-b6cc0422d807",
   "metadata": {
    "jp-MarkdownHeadingCollapsed": true,
    "tags": []
   },
   "source": [
    "#### Comentario intermedio del desarrollo\n",
    "\n",
    "A este punto del notebook se cuenta con la evaluación de rendimiento de los modelos: \n",
    "- Regresión Lógistica\n",
    "- Árbol de decisión\n",
    "- Bagging AD\n",
    "- Random Forest\n",
    "- Extra Trees\n",
    "- Ada Boost\n",
    "- Gradient Boosting\n",
    "\n",
    "Como tipo de separador de los conjuntos de *train* y *test* usamos: ***K-Fold Cross Validation*** para la evaluación de los modelos.\n",
    "\n",
    "Con el resultado observado en primer instancia se tomará el modelo **Random Forest** para entrenamiento y evaluación de métricas dado que esuno de los que mayor rendimiento se observa 0.965 ± 0.001"
   ]
  },
  {
   "cell_type": "markdown",
   "id": "34f98b52-175e-4b4c-8379-7fb1da16228c",
   "metadata": {
    "tags": []
   },
   "source": [
    "### Entrenamiento\n",
    "Se utiliza el modelo mejor evaluado anteriormente ***Random Forest***"
   ]
  },
  {
   "cell_type": "markdown",
   "id": "43ff319e-3850-4be3-9dd1-cab134c95ca0",
   "metadata": {
    "jp-MarkdownHeadingCollapsed": true,
    "tags": []
   },
   "source": [
    "#### Proporción de la clase\n",
    "Cantidad de personas satisfechas o insatisfechas"
   ]
  },
  {
   "cell_type": "code",
   "execution_count": 22,
   "id": "37dc6f3a-e710-451e-a27d-63baa50f2784",
   "metadata": {},
   "outputs": [
    {
     "data": {
      "text/plain": [
       "1    0.55\n",
       "0    0.45\n",
       "Name: nSatisfaction, dtype: float64"
      ]
     },
     "execution_count": 22,
     "metadata": {},
     "output_type": "execute_result"
    }
   ],
   "source": [
    "invistico_Airline.nSatisfaction.value_counts(normalize=True).round(2)"
   ]
  },
  {
   "cell_type": "code",
   "execution_count": 23,
   "id": "512921f1-5abc-4bcf-a087-4a177f2d057a",
   "metadata": {},
   "outputs": [
    {
     "data": {
      "text/plain": [
       "Text(0.5, 1.0, 'Proporción de la clase')"
      ]
     },
     "execution_count": 23,
     "metadata": {},
     "output_type": "execute_result"
    },
    {
     "data": {
      "image/png": "[encoded data removed]",
      "text/plain": [
       "<Figure size 432x288 with 1 Axes>"
      ]
     },
     "metadata": {
      "needs_background": "light"
     },
     "output_type": "display_data"
    }
   ],
   "source": [
    "sns.countplot(invistico_Airline.nSatisfaction)\n",
    "plt.title('Proporción de la clase')"
   ]
  },
  {
   "cell_type": "markdown",
   "id": "ec52b37d-5ea6-4a33-b8f8-770f5005feb4",
   "metadata": {
    "jp-MarkdownHeadingCollapsed": true,
    "tags": []
   },
   "source": [
    "#### Proporción de la clase en la línea base\n",
    "Cantidad de personas satisfechas o insatisfechas"
   ]
  },
  {
   "cell_type": "code",
   "execution_count": 24,
   "id": "c870d248-502f-45df-949f-1ec8f2f2fbea",
   "metadata": {},
   "outputs": [
    {
     "data": {
      "text/plain": [
       "1    0.61\n",
       "0    0.39\n",
       "Name: nSatisfactionBaselinePredict, dtype: float64"
      ]
     },
     "execution_count": 24,
     "metadata": {},
     "output_type": "execute_result"
    }
   ],
   "source": [
    "invistico_Airline.nSatisfactionBaselinePredict.value_counts(normalize=True).round(2)"
   ]
  },
  {
   "cell_type": "code",
   "execution_count": 25,
   "id": "0dfe4238-0147-401c-8a3a-367c115d83fe",
   "metadata": {},
   "outputs": [
    {
     "data": {
      "text/plain": [
       "Text(0.5, 1.0, 'Proporción de la clase en la línea base')"
      ]
     },
     "execution_count": 25,
     "metadata": {},
     "output_type": "execute_result"
    },
    {
     "data": {
      "image/png": "[encoded data removed]",
      "text/plain": [
       "<Figure size 432x288 with 1 Axes>"
      ]
     },
     "metadata": {
      "needs_background": "light"
     },
     "output_type": "display_data"
    }
   ],
   "source": [
    "sns.countplot(invistico_Airline.nSatisfactionBaselinePredict)\n",
    "plt.title('Proporción de la clase en la línea base')"
   ]
  },
  {
   "cell_type": "markdown",
   "id": "87ddac99-d041-421c-8ef0-86bcb1424287",
   "metadata": {},
   "source": [
    "#### Modelo: RandomForestClassifier"
   ]
  },
  {
   "cell_type": "code",
   "execution_count": 26,
   "id": "517b505a-d7b9-4793-b561-bc1cd80ac673",
   "metadata": {},
   "outputs": [],
   "source": [
    "def fn_classification_report_to_dataframe(vClassifierName, vReport):\n",
    "    report_data = []\n",
    "    lines = vReport.split('\\n').replace(\"'\", \"\")\n",
    "    for line in lines[2:-3]:\n",
    "        row = {}\n",
    "        row_data = line.split('      ')\n",
    "        row['classifier'] = vClassifierName\n",
    "        row['class'] = row_data[0]\n",
    "        row['precision'] = row_data[1]\n",
    "        #row['recall'] = row_data[2]\n",
    "        #row['f1_score'] = row_data[3]\n",
    "        #row['support'] = row_data[4]\n",
    "        report_data.append(row)\n",
    "    return pd.DataFrame.from_dict(report_data)"
   ]
  },
  {
   "cell_type": "code",
   "execution_count": 27,
   "id": "921810aa-f9f9-4633-bc8d-488819fe0b47",
   "metadata": {},
   "outputs": [],
   "source": [
    "#rf = RandomForestClassifier(class_weight='balanced')\n",
    "#rf.fit(X_train,y_train)\n",
    "\n",
    "for cls in classifiers:\n",
    "    cls.fit(X_train, y_train)"
   ]
  },
  {
   "cell_type": "code",
   "execution_count": 29,
   "id": "a6bfb361-b58a-4d66-bbad-c60d578c9d79",
   "metadata": {},
   "outputs": [
    {
     "data": {
      "image/png": "[encoded data removed]",
      "text/plain": [
       "<Figure size 432x288 with 2 Axes>"
      ]
     },
     "metadata": {
      "needs_background": "light"
     },
     "output_type": "display_data"
    },
    {
     "data": {
      "text/html": [
       "<div>\n",
       "<style scoped>\n",
       "    .dataframe tbody tr th:only-of-type {\n",
       "        vertical-align: middle;\n",
       "    }\n",
       "\n",
       "    .dataframe tbody tr th {\n",
       "        vertical-align: top;\n",
       "    }\n",
       "\n",
       "    .dataframe thead th {\n",
       "        text-align: right;\n",
       "    }\n",
       "</style>\n",
       "<table border=\"1\" class=\"dataframe\">\n",
       "  <thead>\n",
       "    <tr style=\"text-align: right;\">\n",
       "      <th></th>\n",
       "      <th>Metrics</th>\n",
       "      <th>dissatisfied</th>\n",
       "      <th>satisfied</th>\n",
       "      <th>Classifiers</th>\n",
       "      <th>accuracy</th>\n",
       "      <th>macro avg</th>\n",
       "      <th>weighted avg</th>\n",
       "    </tr>\n",
       "  </thead>\n",
       "  <tbody>\n",
       "    <tr>\n",
       "      <th>2</th>\n",
       "      <td>f1-score</td>\n",
       "      <td>0.499582</td>\n",
       "      <td>0.639865</td>\n",
       "      <td>Línea Base</td>\n",
       "      <td>0.581158</td>\n",
       "      <td>0.569724</td>\n",
       "      <td>0.576769</td>\n",
       "    </tr>\n",
       "    <tr>\n",
       "      <th>0</th>\n",
       "      <td>precision</td>\n",
       "      <td>0.539949</td>\n",
       "      <td>0.607196</td>\n",
       "      <td>Línea Base</td>\n",
       "      <td>0.581158</td>\n",
       "      <td>0.573573</td>\n",
       "      <td>0.576950</td>\n",
       "    </tr>\n",
       "    <tr>\n",
       "      <th>1</th>\n",
       "      <td>recall</td>\n",
       "      <td>0.464830</td>\n",
       "      <td>0.676250</td>\n",
       "      <td>Línea Base</td>\n",
       "      <td>0.581158</td>\n",
       "      <td>0.570540</td>\n",
       "      <td>0.581158</td>\n",
       "    </tr>\n",
       "    <tr>\n",
       "      <th>3</th>\n",
       "      <td>support</td>\n",
       "      <td>19278.000000</td>\n",
       "      <td>23583.000000</td>\n",
       "      <td>Línea Base</td>\n",
       "      <td>0.581158</td>\n",
       "      <td>42861.000000</td>\n",
       "      <td>42861.000000</td>\n",
       "    </tr>\n",
       "  </tbody>\n",
       "</table>\n",
       "</div>"
      ],
      "text/plain": [
       "     Metrics  dissatisfied     satisfied Classifiers  accuracy     macro avg  \\\n",
       "2   f1-score      0.499582      0.639865  Línea Base  0.581158      0.569724   \n",
       "0  precision      0.539949      0.607196  Línea Base  0.581158      0.573573   \n",
       "1     recall      0.464830      0.676250  Línea Base  0.581158      0.570540   \n",
       "3    support  19278.000000  23583.000000  Línea Base  0.581158  42861.000000   \n",
       "\n",
       "   weighted avg  \n",
       "2      0.576769  \n",
       "0      0.576950  \n",
       "1      0.581158  \n",
       "3  42861.000000  "
      ]
     },
     "execution_count": 29,
     "metadata": {},
     "output_type": "execute_result"
    }
   ],
   "source": [
    "confusion = confusion_matrix(y_test, y_baseline_predict)\n",
    "fig = plt.figure(figsize = (6, 4))\n",
    "title = fig.suptitle(\"Matriz de confusión entre y_test e y_baseline predict\", fontsize=14)\n",
    "fig.subplots_adjust(top=0.85, wspace=0.3)\n",
    "\n",
    "sns.heatmap(confusion,annot=True,fmt='g')\n",
    "plt.show()\n",
    "\n",
    "vReport = metrics.classification_report(y_test, y_baseline_predict, digits = 4, output_dict=True)\n",
    "df_baseline_report = pd.DataFrame.from_dict(vReport)\n",
    "df_baseline_report['Classifiers'] = 'Línea Base' \n",
    "df_baseline_report.sort_index(axis=1, inplace=True)\n",
    "df_baseline_report.reset_index(inplace=True)\n",
    "df_baseline_report = df_baseline_report.rename(columns = {'index':'Metrics', '0':'dissatisfied', '1':'satisfied'})\n",
    "df_baseline_report.sort_values(by=['Metrics', 'Classifiers'])"
   ]
  },
  {
   "cell_type": "code",
   "execution_count": 30,
   "id": "18f0f01c-b99b-45bf-a841-e58cddfbcfb0",
   "metadata": {},
   "outputs": [
    {
     "data": {
      "image/png": "[encoded data removed]",
      "text/plain": [
       "<Figure size 1080x432 with 15 Axes>"
      ]
     },
     "metadata": {
      "needs_background": "light"
     },
     "output_type": "display_data"
    },
    {
     "data": {
      "text/html": [
       "<div>\n",
       "<style scoped>\n",
       "    .dataframe tbody tr th:only-of-type {\n",
       "        vertical-align: middle;\n",
       "    }\n",
       "\n",
       "    .dataframe tbody tr th {\n",
       "        vertical-align: top;\n",
       "    }\n",
       "\n",
       "    .dataframe thead th {\n",
       "        text-align: right;\n",
       "    }\n",
       "</style>\n",
       "<table border=\"1\" class=\"dataframe\">\n",
       "  <thead>\n",
       "    <tr style=\"text-align: right;\">\n",
       "      <th></th>\n",
       "      <th>Metrics</th>\n",
       "      <th>Classifiers</th>\n",
       "      <th>accuracy</th>\n",
       "      <th>dissatisfied</th>\n",
       "      <th>macro avg</th>\n",
       "      <th>satisfied</th>\n",
       "      <th>weighted avg</th>\n",
       "    </tr>\n",
       "  </thead>\n",
       "  <tbody>\n",
       "    <tr>\n",
       "      <th>3</th>\n",
       "      <td>support</td>\n",
       "      <td>LogisticRegression</td>\n",
       "      <td>0.794032</td>\n",
       "      <td>19278.000000</td>\n",
       "      <td>42861.000000</td>\n",
       "      <td>23583.000000</td>\n",
       "      <td>42861.000000</td>\n",
       "    </tr>\n",
       "    <tr>\n",
       "      <th>7</th>\n",
       "      <td>support</td>\n",
       "      <td>DecisionTreeClassifier</td>\n",
       "      <td>0.938546</td>\n",
       "      <td>19278.000000</td>\n",
       "      <td>42861.000000</td>\n",
       "      <td>23583.000000</td>\n",
       "      <td>42861.000000</td>\n",
       "    </tr>\n",
       "    <tr>\n",
       "      <th>11</th>\n",
       "      <td>support</td>\n",
       "      <td>BaggingClassifier</td>\n",
       "      <td>0.952894</td>\n",
       "      <td>19278.000000</td>\n",
       "      <td>42861.000000</td>\n",
       "      <td>23583.000000</td>\n",
       "      <td>42861.000000</td>\n",
       "    </tr>\n",
       "    <tr>\n",
       "      <th>15</th>\n",
       "      <td>support</td>\n",
       "      <td>RandomForestClassifier</td>\n",
       "      <td>0.957560</td>\n",
       "      <td>19278.000000</td>\n",
       "      <td>42861.000000</td>\n",
       "      <td>23583.000000</td>\n",
       "      <td>42861.000000</td>\n",
       "    </tr>\n",
       "    <tr>\n",
       "      <th>19</th>\n",
       "      <td>support</td>\n",
       "      <td>ExtraTreesClassifier</td>\n",
       "      <td>0.957537</td>\n",
       "      <td>19278.000000</td>\n",
       "      <td>42861.000000</td>\n",
       "      <td>23583.000000</td>\n",
       "      <td>42861.000000</td>\n",
       "    </tr>\n",
       "    <tr>\n",
       "      <th>23</th>\n",
       "      <td>support</td>\n",
       "      <td>AdaBoostClassifier</td>\n",
       "      <td>0.900609</td>\n",
       "      <td>19278.000000</td>\n",
       "      <td>42861.000000</td>\n",
       "      <td>23583.000000</td>\n",
       "      <td>42861.000000</td>\n",
       "    </tr>\n",
       "    <tr>\n",
       "      <th>27</th>\n",
       "      <td>support</td>\n",
       "      <td>GradientBoostingClassifier</td>\n",
       "      <td>0.927230</td>\n",
       "      <td>19278.000000</td>\n",
       "      <td>42861.000000</td>\n",
       "      <td>23583.000000</td>\n",
       "      <td>42861.000000</td>\n",
       "    </tr>\n",
       "    <tr>\n",
       "      <th>12</th>\n",
       "      <td>precision</td>\n",
       "      <td>RandomForestClassifier</td>\n",
       "      <td>0.957560</td>\n",
       "      <td>0.944997</td>\n",
       "      <td>0.956580</td>\n",
       "      <td>0.968164</td>\n",
       "      <td>0.957744</td>\n",
       "    </tr>\n",
       "    <tr>\n",
       "      <th>8</th>\n",
       "      <td>precision</td>\n",
       "      <td>BaggingClassifier</td>\n",
       "      <td>0.952894</td>\n",
       "      <td>0.935943</td>\n",
       "      <td>0.951692</td>\n",
       "      <td>0.967441</td>\n",
       "      <td>0.953274</td>\n",
       "    </tr>\n",
       "    <tr>\n",
       "      <th>16</th>\n",
       "      <td>precision</td>\n",
       "      <td>ExtraTreesClassifier</td>\n",
       "      <td>0.957537</td>\n",
       "      <td>0.946177</td>\n",
       "      <td>0.956627</td>\n",
       "      <td>0.967077</td>\n",
       "      <td>0.957677</td>\n",
       "    </tr>\n",
       "    <tr>\n",
       "      <th>18</th>\n",
       "      <td>f1-score</td>\n",
       "      <td>ExtraTreesClassifier</td>\n",
       "      <td>0.957537</td>\n",
       "      <td>0.953144</td>\n",
       "      <td>0.957160</td>\n",
       "      <td>0.961177</td>\n",
       "      <td>0.957564</td>\n",
       "    </tr>\n",
       "    <tr>\n",
       "      <th>14</th>\n",
       "      <td>f1-score</td>\n",
       "      <td>RandomForestClassifier</td>\n",
       "      <td>0.957560</td>\n",
       "      <td>0.953233</td>\n",
       "      <td>0.957194</td>\n",
       "      <td>0.961155</td>\n",
       "      <td>0.957592</td>\n",
       "    </tr>\n",
       "    <tr>\n",
       "      <th>10</th>\n",
       "      <td>f1-score</td>\n",
       "      <td>BaggingClassifier</td>\n",
       "      <td>0.952894</td>\n",
       "      <td>0.948327</td>\n",
       "      <td>0.952523</td>\n",
       "      <td>0.956719</td>\n",
       "      <td>0.952945</td>\n",
       "    </tr>\n",
       "    <tr>\n",
       "      <th>17</th>\n",
       "      <td>recall</td>\n",
       "      <td>ExtraTreesClassifier</td>\n",
       "      <td>0.957537</td>\n",
       "      <td>0.960214</td>\n",
       "      <td>0.957781</td>\n",
       "      <td>0.955349</td>\n",
       "      <td>0.957537</td>\n",
       "    </tr>\n",
       "    <tr>\n",
       "      <th>13</th>\n",
       "      <td>recall</td>\n",
       "      <td>RandomForestClassifier</td>\n",
       "      <td>0.957560</td>\n",
       "      <td>0.961614</td>\n",
       "      <td>0.957930</td>\n",
       "      <td>0.954247</td>\n",
       "      <td>0.957560</td>\n",
       "    </tr>\n",
       "    <tr>\n",
       "      <th>5</th>\n",
       "      <td>recall</td>\n",
       "      <td>DecisionTreeClassifier</td>\n",
       "      <td>0.938546</td>\n",
       "      <td>0.926133</td>\n",
       "      <td>0.937413</td>\n",
       "      <td>0.948692</td>\n",
       "      <td>0.938546</td>\n",
       "    </tr>\n",
       "    <tr>\n",
       "      <th>9</th>\n",
       "      <td>recall</td>\n",
       "      <td>BaggingClassifier</td>\n",
       "      <td>0.952894</td>\n",
       "      <td>0.961044</td>\n",
       "      <td>0.953638</td>\n",
       "      <td>0.946232</td>\n",
       "      <td>0.952894</td>\n",
       "    </tr>\n",
       "    <tr>\n",
       "      <th>6</th>\n",
       "      <td>f1-score</td>\n",
       "      <td>DecisionTreeClassifier</td>\n",
       "      <td>0.938546</td>\n",
       "      <td>0.931302</td>\n",
       "      <td>0.937855</td>\n",
       "      <td>0.944407</td>\n",
       "      <td>0.938513</td>\n",
       "    </tr>\n",
       "    <tr>\n",
       "      <th>4</th>\n",
       "      <td>precision</td>\n",
       "      <td>DecisionTreeClassifier</td>\n",
       "      <td>0.938546</td>\n",
       "      <td>0.936530</td>\n",
       "      <td>0.938345</td>\n",
       "      <td>0.940161</td>\n",
       "      <td>0.938527</td>\n",
       "    </tr>\n",
       "    <tr>\n",
       "      <th>25</th>\n",
       "      <td>recall</td>\n",
       "      <td>GradientBoostingClassifier</td>\n",
       "      <td>0.927230</td>\n",
       "      <td>0.916174</td>\n",
       "      <td>0.926221</td>\n",
       "      <td>0.936268</td>\n",
       "      <td>0.927230</td>\n",
       "    </tr>\n",
       "    <tr>\n",
       "      <th>26</th>\n",
       "      <td>f1-score</td>\n",
       "      <td>GradientBoostingClassifier</td>\n",
       "      <td>0.927230</td>\n",
       "      <td>0.918867</td>\n",
       "      <td>0.926448</td>\n",
       "      <td>0.934030</td>\n",
       "      <td>0.927210</td>\n",
       "    </tr>\n",
       "    <tr>\n",
       "      <th>24</th>\n",
       "      <td>precision</td>\n",
       "      <td>GradientBoostingClassifier</td>\n",
       "      <td>0.927230</td>\n",
       "      <td>0.921576</td>\n",
       "      <td>0.926689</td>\n",
       "      <td>0.931803</td>\n",
       "      <td>0.927203</td>\n",
       "    </tr>\n",
       "    <tr>\n",
       "      <th>20</th>\n",
       "      <td>precision</td>\n",
       "      <td>AdaBoostClassifier</td>\n",
       "      <td>0.900609</td>\n",
       "      <td>0.885235</td>\n",
       "      <td>0.899334</td>\n",
       "      <td>0.913432</td>\n",
       "      <td>0.900750</td>\n",
       "    </tr>\n",
       "    <tr>\n",
       "      <th>22</th>\n",
       "      <td>f1-score</td>\n",
       "      <td>AdaBoostClassifier</td>\n",
       "      <td>0.900609</td>\n",
       "      <td>0.890121</td>\n",
       "      <td>0.899695</td>\n",
       "      <td>0.909269</td>\n",
       "      <td>0.900657</td>\n",
       "    </tr>\n",
       "    <tr>\n",
       "      <th>21</th>\n",
       "      <td>recall</td>\n",
       "      <td>AdaBoostClassifier</td>\n",
       "      <td>0.900609</td>\n",
       "      <td>0.895062</td>\n",
       "      <td>0.900103</td>\n",
       "      <td>0.905144</td>\n",
       "      <td>0.900609</td>\n",
       "    </tr>\n",
       "    <tr>\n",
       "      <th>1</th>\n",
       "      <td>recall</td>\n",
       "      <td>LogisticRegression</td>\n",
       "      <td>0.794032</td>\n",
       "      <td>0.720666</td>\n",
       "      <td>0.787336</td>\n",
       "      <td>0.854005</td>\n",
       "      <td>0.794032</td>\n",
       "    </tr>\n",
       "    <tr>\n",
       "      <th>2</th>\n",
       "      <td>f1-score</td>\n",
       "      <td>LogisticRegression</td>\n",
       "      <td>0.794032</td>\n",
       "      <td>0.758890</td>\n",
       "      <td>0.789561</td>\n",
       "      <td>0.820233</td>\n",
       "      <td>0.792642</td>\n",
       "    </tr>\n",
       "    <tr>\n",
       "      <th>0</th>\n",
       "      <td>precision</td>\n",
       "      <td>LogisticRegression</td>\n",
       "      <td>0.794032</td>\n",
       "      <td>0.801396</td>\n",
       "      <td>0.795213</td>\n",
       "      <td>0.789030</td>\n",
       "      <td>0.794592</td>\n",
       "    </tr>\n",
       "  </tbody>\n",
       "</table>\n",
       "</div>"
      ],
      "text/plain": [
       "      Metrics                 Classifiers  accuracy  dissatisfied  \\\n",
       "3     support          LogisticRegression  0.794032  19278.000000   \n",
       "7     support      DecisionTreeClassifier  0.938546  19278.000000   \n",
       "11    support           BaggingClassifier  0.952894  19278.000000   \n",
       "15    support      RandomForestClassifier  0.957560  19278.000000   \n",
       "19    support        ExtraTreesClassifier  0.957537  19278.000000   \n",
       "23    support          AdaBoostClassifier  0.900609  19278.000000   \n",
       "27    support  GradientBoostingClassifier  0.927230  19278.000000   \n",
       "12  precision      RandomForestClassifier  0.957560      0.944997   \n",
       "8   precision           BaggingClassifier  0.952894      0.935943   \n",
       "16  precision        ExtraTreesClassifier  0.957537      0.946177   \n",
       "18   f1-score        ExtraTreesClassifier  0.957537      0.953144   \n",
       "14   f1-score      RandomForestClassifier  0.957560      0.953233   \n",
       "10   f1-score           BaggingClassifier  0.952894      0.948327   \n",
       "17     recall        ExtraTreesClassifier  0.957537      0.960214   \n",
       "13     recall      RandomForestClassifier  0.957560      0.961614   \n",
       "5      recall      DecisionTreeClassifier  0.938546      0.926133   \n",
       "9      recall           BaggingClassifier  0.952894      0.961044   \n",
       "6    f1-score      DecisionTreeClassifier  0.938546      0.931302   \n",
       "4   precision      DecisionTreeClassifier  0.938546      0.936530   \n",
       "25     recall  GradientBoostingClassifier  0.927230      0.916174   \n",
       "26   f1-score  GradientBoostingClassifier  0.927230      0.918867   \n",
       "24  precision  GradientBoostingClassifier  0.927230      0.921576   \n",
       "20  precision          AdaBoostClassifier  0.900609      0.885235   \n",
       "22   f1-score          AdaBoostClassifier  0.900609      0.890121   \n",
       "21     recall          AdaBoostClassifier  0.900609      0.895062   \n",
       "1      recall          LogisticRegression  0.794032      0.720666   \n",
       "2    f1-score          LogisticRegression  0.794032      0.758890   \n",
       "0   precision          LogisticRegression  0.794032      0.801396   \n",
       "\n",
       "       macro avg     satisfied  weighted avg  \n",
       "3   42861.000000  23583.000000  42861.000000  \n",
       "7   42861.000000  23583.000000  42861.000000  \n",
       "11  42861.000000  23583.000000  42861.000000  \n",
       "15  42861.000000  23583.000000  42861.000000  \n",
       "19  42861.000000  23583.000000  42861.000000  \n",
       "23  42861.000000  23583.000000  42861.000000  \n",
       "27  42861.000000  23583.000000  42861.000000  \n",
       "12      0.956580      0.968164      0.957744  \n",
       "8       0.951692      0.967441      0.953274  \n",
       "16      0.956627      0.967077      0.957677  \n",
       "18      0.957160      0.961177      0.957564  \n",
       "14      0.957194      0.961155      0.957592  \n",
       "10      0.952523      0.956719      0.952945  \n",
       "17      0.957781      0.955349      0.957537  \n",
       "13      0.957930      0.954247      0.957560  \n",
       "5       0.937413      0.948692      0.938546  \n",
       "9       0.953638      0.946232      0.952894  \n",
       "6       0.937855      0.944407      0.938513  \n",
       "4       0.938345      0.940161      0.938527  \n",
       "25      0.926221      0.936268      0.927230  \n",
       "26      0.926448      0.934030      0.927210  \n",
       "24      0.926689      0.931803      0.927203  \n",
       "20      0.899334      0.913432      0.900750  \n",
       "22      0.899695      0.909269      0.900657  \n",
       "21      0.900103      0.905144      0.900609  \n",
       "1       0.787336      0.854005      0.794032  \n",
       "2       0.789561      0.820233      0.792642  \n",
       "0       0.795213      0.789030      0.794592  "
      ]
     },
     "execution_count": 30,
     "metadata": {},
     "output_type": "execute_result"
    }
   ],
   "source": [
    "fig, axes = plt.subplots(nrows=2, ncols=4, figsize=(15,6))\n",
    "title = fig.suptitle(\"Matrices de confusión entre y_test e y_predict\", fontsize=14)\n",
    "\n",
    "# define labels\n",
    "#l = [\"0=dissatisfied\", \"1=satisfied\"]\n",
    "df_reportes = []\n",
    "\n",
    "for cls, ax in zip(classifiers, axes.flatten()):\n",
    "    y_predict = cls.predict(X_test)\n",
    "    confusion = confusion_matrix(y_test, y_predict)\n",
    "    sns.heatmap(confusion,annot=True,fmt='g', ax=ax)\n",
    "    ax.set(ylabel=\"True Label\", xlabel=\"Predicted Label\")\n",
    "    ax.title.set_text(type(cls).__name__)\n",
    "    #print(type(cls).__name__)    \n",
    "    #print(metrics.classification_report(y_test, y_predict, digits = 4))    \n",
    "\n",
    "    vReport = metrics.classification_report(y_test, y_predict, digits = 4, output_dict=True)\n",
    "    df_report = pd.DataFrame.from_dict(vReport)\n",
    "    df_report['Classifiers'] = type(cls).__name__ \n",
    "    \n",
    "    df_report = df_report.rename(columns = {'index':'Metrics', '0':'dissatisfied', '1':'satisfied'})\n",
    "    df_reportes.append(df_report)\n",
    "    \n",
    "   \n",
    "plt.tight_layout()  \n",
    "plt.show()\n",
    "\n",
    "df_resultado = pd.concat(df_reportes)\n",
    "df_resultado.sort_index(axis=1, inplace=True)\n",
    "df_resultado.reset_index(inplace=True)\n",
    "df_resultado = df_resultado.rename(columns = {'index':'Metrics', '0':'dissatisfied', '1':'satisfied'})\n",
    "df_resultado.sort_values(by=['satisfied', 'Metrics'], ascending = [False, True])"
   ]
  },
  {
   "cell_type": "code",
   "execution_count": 3,
   "id": "0cd41db6-9793-4291-ab54-57cbb208a250",
   "metadata": {},
   "outputs": [],
   "source": [
    "from sklearn.model_selection import GridSearchCV\n",
    "from sklearn.model_selection import RandomizedSearchCV"
   ]
  },
  {
   "cell_type": "code",
   "execution_count": 5,
   "id": "bc318139-681a-47ba-8c27-7e62f65884b1",
   "metadata": {},
   "outputs": [
    {
     "data": {
      "text/plain": [
       "{'bootstrap': True,\n",
       " 'ccp_alpha': 0.0,\n",
       " 'class_weight': None,\n",
       " 'criterion': 'gini',\n",
       " 'max_depth': None,\n",
       " 'max_features': 'auto',\n",
       " 'max_leaf_nodes': None,\n",
       " 'max_samples': None,\n",
       " 'min_impurity_decrease': 0.0,\n",
       " 'min_impurity_split': None,\n",
       " 'min_samples_leaf': 1,\n",
       " 'min_samples_split': 2,\n",
       " 'min_weight_fraction_leaf': 0.0,\n",
       " 'n_estimators': 100,\n",
       " 'n_jobs': None,\n",
       " 'oob_score': False,\n",
       " 'random_state': None,\n",
       " 'verbose': 0,\n",
       " 'warm_start': False}"
      ]
     },
     "execution_count": 5,
     "metadata": {},
     "output_type": "execute_result"
    }
   ],
   "source": [
    "rf.get_params()"
   ]
  },
  {
   "cell_type": "code",
   "execution_count": 4,
   "id": "739fc52b-f083-4e53-b345-d61e6777d346",
   "metadata": {},
   "outputs": [],
   "source": [
    "from sklearn.ensemble import RandomForestClassifier, ExtraTreesClassifier, BaggingClassifier, RandomForestRegressor\n",
    "rf = RandomForestClassifier(class_weight='balanced')\n",
    "rf = RandomForestClassifier()\n",
    "param_grid = {'max_depth': [3,5,8,10,20],\n",
    "             'n_estimators': [100, 200, 300],\n",
    "             'max_features': ['auto',3]}\n",
    "grid = GridSearchCV(rf, param_grid=param_grid, cv=3, scoring='precision')"
   ]
  },
  {
   "cell_type": "code",
   "execution_count": 8,
   "id": "2127dbc4-4314-45d1-bec9-9a9f6c95d326",
   "metadata": {},
   "outputs": [
    {
     "ename": "NameError",
     "evalue": "name 'x_train' is not defined",
     "output_type": "error",
     "traceback": [
      "\u001b[1;31m---------------------------------------------------------------------------\u001b[0m",
      "\u001b[1;31mNameError\u001b[0m                                 Traceback (most recent call last)",
      "\u001b[1;32m~\\AppData\\Local\\Temp/ipykernel_13964/496093277.py\u001b[0m in \u001b[0;36m<module>\u001b[1;34m\u001b[0m\n\u001b[1;32m----> 1\u001b[1;33m \u001b[0mgrid\u001b[0m\u001b[1;33m.\u001b[0m\u001b[0mfit\u001b[0m\u001b[1;33m(\u001b[0m\u001b[0mx_train\u001b[0m\u001b[1;33m,\u001b[0m \u001b[0my_train\u001b[0m\u001b[1;33m)\u001b[0m\u001b[1;33m\u001b[0m\u001b[1;33m\u001b[0m\u001b[0m\n\u001b[0m",
      "\u001b[1;31mNameError\u001b[0m: name 'x_train' is not defined"
     ]
    }
   ],
   "source": [
    "grid.fit(X_train, y_train)"
   ]
  },
  {
   "cell_type": "code",
   "execution_count": 31,
   "id": "fa7fd00c-11ee-483d-8135-47700c200e99",
   "metadata": {
    "tags": []
   },
   "outputs": [
    {
     "name": "stdout",
     "output_type": "stream",
     "text": [
      "False\n"
     ]
    },
    {
     "data": {
      "image/png": "[encoded data removed]",
      "text/plain": [
       "<Figure size 432x288 with 1 Axes>"
      ]
     },
     "metadata": {
      "needs_background": "light"
     },
     "output_type": "display_data"
    }
   ],
   "source": [
    "importancias = rf.feature_importances_\n",
    "print (all(importancias == np.mean([tree.feature_importances_ for tree in rf.estimators_], axis=0)))\n",
    "std = np.std([tree.feature_importances_ for tree in rf.estimators_], axis=0)\n",
    "indices = np.argsort(importancias)[::-1]\n",
    "nombres_features = X.columns\n",
    "\n",
    "# Graficar la importancia de los features en el random forest\n",
    "plt.figure()\n",
    "plt.title(\"Importancia de los features en RandomForest\")\n",
    "plt.bar(range(X.shape[1]), importancias[indices],\n",
    "       color=\"r\", yerr=std[indices], align=\"center\")\n",
    "plt.xticks(range(X.shape[1]), nombres_features[indices], rotation=90)\n",
    "plt.xlim([-1, X.shape[1]])\n",
    "plt.show()"
   ]
  },
  {
   "cell_type": "markdown",
   "id": "ffeba678-7ccb-48ff-b5a1-9c3c4dd6eb07",
   "metadata": {},
   "source": [
    "#### Predicciones del modelo entrenado"
   ]
  },
  {
   "cell_type": "code",
   "execution_count": null,
   "id": "3ebf02ef-b077-4445-8521-bb85827b2226",
   "metadata": {},
   "outputs": [],
   "source": [
    "y_predict = modelo.predict(X_train)\n",
    "print(\"y_predict con modelo Random Forest y X_train. Métricas entre y_train e y_predict (Debe ser 1.0)\")\n",
    "print(\"* accuracy_score=\", accuracy_score(y_train, y_predict).round(4))\n",
    "print(\"* recall_score=\", recall_score(y_train, y_predict).round(4))\n",
    "print(\"* precision_score=\", precision_score(y_train, y_predict).round(4))"
   ]
  },
  {
   "cell_type": "code",
   "execution_count": null,
   "id": "9ba01106-7ebe-4433-b4e9-ea20c88f7cde",
   "metadata": {},
   "outputs": [],
   "source": [
    "y_predict = modelo.predict(X_test)\n",
    "print(\"y_rpredict con modelo Random Forest y X_test. Métricas entre y_test e y_predict\")\n",
    "print(\"* accuracy_score=\", accuracy_score(y_test, y_predict).round(4))\n",
    "print(\"* recall_score=\", recall_score(y_test, y_predict).round(4))\n",
    "print(\"* precision_score=\", precision_score(y_test, y_predict).round(4))"
   ]
  },
  {
   "cell_type": "code",
   "execution_count": null,
   "id": "9329a570-fd5f-4d22-a9b9-af286f986030",
   "metadata": {},
   "outputs": [],
   "source": [
    "print(\"Desde la linea base y X_test. Métricas entre y_test e y_baseline_predict\")\n",
    "print(\"* accuracy_score=\", accuracy_score(y_test, y_baseline_predict).round(4))\n",
    "print(\"* recall_score=\", recall_score(y_test, y_baseline_predict).round(4))\n",
    "print(\"* precision_score=\", precision_score(y_test, y_baseline_predict).round(4))"
   ]
  },
  {
   "cell_type": "code",
   "execution_count": null,
   "id": "ef12554d-aae3-415d-86fe-96e0f203c824",
   "metadata": {},
   "outputs": [],
   "source": [
    "#roc_curve(y_train, y_predict) CONSULTAR\n",
    "#auc(y_train, y_predict) CONSULTAR"
   ]
  },
  {
   "cell_type": "code",
   "execution_count": null,
   "id": "b0e725a3-8561-486a-8639-9db6f7787384",
   "metadata": {},
   "outputs": [],
   "source": [
    "np.array(y_test)"
   ]
  },
  {
   "cell_type": "code",
   "execution_count": null,
   "id": "4979a2a5-dfe9-44b0-a7d5-49f9c92fd2c1",
   "metadata": {},
   "outputs": [],
   "source": [
    "y_predict"
   ]
  },
  {
   "cell_type": "code",
   "execution_count": null,
   "id": "2e29c882-91bf-48bb-bb71-f8f80bf1bde6",
   "metadata": {},
   "outputs": [],
   "source": [
    "np.array(y_baseline_predict)"
   ]
  },
  {
   "cell_type": "markdown",
   "id": "7e90dd42-bfc2-4059-940e-b013d61ccef8",
   "metadata": {},
   "source": [
    "#### ¿Donde falla mi modelo?\n",
    "\n",
    "Ver la contingencia\n",
    "- Clasificación: Matriz de confusión\n",
    "- Regresión: Un plot"
   ]
  },
  {
   "cell_type": "markdown",
   "id": "ab42185d-4ae6-4f5c-b873-bdd35b090589",
   "metadata": {
    "tags": []
   },
   "source": [
    "#### Sobre y_test e y_predict"
   ]
  },
  {
   "cell_type": "code",
   "execution_count": null,
   "id": "09189b43-111e-4a87-8617-430d18561326",
   "metadata": {},
   "outputs": [],
   "source": [
    "confusion = confusion_matrix(y_test, y_predict)\n",
    "\n",
    "fig = plt.figure(figsize = (6, 4))\n",
    "title = fig.suptitle(\"Matriz de confusión entre y_test e y_predict\", fontsize=14)\n",
    "fig.subplots_adjust(top=0.85, wspace=0.3)\n",
    "\n",
    "sns.heatmap(confusion,annot=True,fmt='g')\n",
    "plt.show()\n",
    "print(metrics.classification_report(y_test, y_predict, digits = 4))"
   ]
  },
  {
   "cell_type": "markdown",
   "id": "7cca8860-4347-4132-b162-f6ec4bf91f14",
   "metadata": {
    "tags": []
   },
   "source": [
    "#### Sobre y_test e y_baseline_predict"
   ]
  },
  {
   "cell_type": "code",
   "execution_count": null,
   "id": "f88e0269-382f-485c-ba2d-fd93d01b0157",
   "metadata": {},
   "outputs": [],
   "source": [
    "confusion = confusion_matrix(y_test, y_baseline_predict)\n",
    "\n",
    "fig = plt.figure(figsize = (6, 4))\n",
    "title = fig.suptitle(\"Matriz de confusión entre y_test e y_baseline predict\", fontsize=14)\n",
    "fig.subplots_adjust(top=0.85, wspace=0.3)\n",
    "\n",
    "sns.heatmap(confusion,annot=True,fmt='g')\n",
    "plt.show()\n",
    "print(metrics.classification_report(y_test, y_baseline_predict, digits = 4))"
   ]
  },
  {
   "cell_type": "markdown",
   "id": "cad60403-6e26-491a-9266-f5ecc2dc155f",
   "metadata": {},
   "source": [
    "#### Comentario intermedio del desarrollo\n",
    "\n",
    "A este punto del notebook se entreno un modelo ***Random Forest***\n",
    "- Se utiliza el conjunto de datos de entrenamiento X_Train (Predictores de entrenamiento) e y_train (variable objetivo de entrenamiento)\n",
    "- Se calculan las métricas entre y_train e y_predict y el resultado debe ser 1.0 porque los predictores de entrenamiento (X_Train) tienen y_train como variable objetivo\n",
    "- Se calculan las métricas entre y_test e y_predict y se puede observar el resultado de cada métrica\n",
    "\n",
    "Cabe señalar que cada métrica utilizada: accuracy_score, recall_score, precision_score -existen otras-, recibe como parámetros *y_true* e *y_pred* -en ese orden- por lo tanto siempre se debe enviar la variable objetivo con valores verdaderos -*y_test* por ejemplo- primero y luego la variable objetivo con valores predecidos -*y_pred*-.\n",
    "\n",
    "Por otra parte, se observa de los array de y_test e y_predict lo siguiente:\n",
    "- y_test es lo verdadero, la variable objetivo correcta\n",
    "- y_predict es lo predecido, la variable objetivo predecida \n",
    "\n",
    "por lo tanto se puede dar los siguientes casos:\n",
    "- **True positive**: Cuando la observacion de la variable objetivo correcta es true -1- y la predicha también es true -1-\n",
    ">- np.array(y_test) = array([**1**, 1, 1, ..., 0, 1, 0], dtype=int64)\n",
    ">-y_predict        = array([**1**, 1, 1, ..., 1, 0, 0], dtype=int64)\n",
    "\n",
    "- **True negative**: Cuando la observacion de la variable objetivo correcta es true -1- y la predicha es false -0-\n",
    ">- np.array(y_test) = array([1, 1, 1, ..., 0, **1**, 0], dtype=int64)\n",
    ">-y_predict        = array([1, 1, 1, ..., 1, **0**, 0], dtype=int64)\n",
    "\n",
    "- **False positive**: Cuando la observacion de la variable objetivo correcta es false -0- y la predicha también es false -0-\n",
    ">- np.array(y_test) = array([1, 1, 1, ..., 0, 1, **0**], dtype=int64)\n",
    ">-y_predict        = array([1, 1, 1, ..., 1, 0, **0**], dtype=int64)\n",
    "\n",
    "- **False negative**: Cuando la observacion de la variable objetivo correcta es false -0- y la predicha es positiva -1-\n",
    ">- np.array(y_test) = array([1, 1, 1, ..., **0**, 1, 0], dtype=int64)\n",
    ">-y_predict        = array([1, 1, 1, ..., **1**, 0, 0], dtype=int64)\n",
    "\n",
    "\n",
    "**Comentario de Alejandro en Video Clase del día 02 jun 2022 - Sección 2.2 Métricas: Accuracy**\n",
    ">Es decir, que en este caso, encontramos que el 76% de los casos -en el set de test- han sido correctamente clasificados.\n",
    "Ahora bien, ¿Qué tan bueno es el clasificador? ¿Qué significa que podamos clasificar correctamente a esta proporción de casos?\n",
    "Una primera forma de comenzar a responder esta pregunta es comprara la performance con un clsificador bien simple y (casi) trivial:\n",
    "se lo suele llamar \"clasificador nulo\" y consiste simplemente en predecir solamente teniendo en cuenta la clase mas frecuente.\n",
    "\n",
    ">Observaciones importantes expresadas verbalmente: \n",
    ">- Desconfiar de la métrica \"Accuracy\" cuando la información de la variable objetivo -target- está muy desbalanceada -***Ver Sección Proporción de la Clase***-.\n",
    ">- AUC entre 0.7 y 0.8 está bien\n",
    ">- Matriz de confusión -***Ver imágen debajo***-.\n",
    ">- **Métricas computadas desde la matriz de confusión: Sensitivity (o recall)**: Mide la capacidad -qué tan \"sensible\" es del modelo- de detectar los verdaderos positivos (TP) sobre todos los casos que son positivos (FN + TP). En nuestro TP: del total de personas satisfechas, ¿Cuántas logra clasificar correctamente el modelo?"
   ]
  },
  {
   "cell_type": "code",
   "execution_count": null,
   "id": "576a45ab-5c4b-4a0c-a6ab-12305d85ac39",
   "metadata": {},
   "outputs": [],
   "source": [
    "#from IPython.display import display, Image\n",
    "display(Image(filename='MatrizConfusion.jpg'))"
   ]
  },
  {
   "cell_type": "code",
   "execution_count": null,
   "id": "e8fa1ade-5e64-4ebb-8184-8e34f4c3b277",
   "metadata": {},
   "outputs": [],
   "source": [
    "#Instalar graphviz  graphviz.org -> Arboles\n",
    "\n",
    "#Matriz de confusión\n",
    "# https://www.youtube.com/watch?v=bhavJu2a34E \n",
    "# https://www.youtube.com/watch?v=cS8EQYPpsmU\n",
    "\n",
    "#UV xx/66\n",
    "#https://www.youtube.com/watch?v=erCpMR0myE4\n"
   ]
  },
  {
   "cell_type": "markdown",
   "id": "32ed39c9-cf04-46fb-99de-b6df751084eb",
   "metadata": {},
   "source": [
    "#### Comentario intermedio del desarrollo\n",
    "\n",
    "A este punto del notebook ..."
   ]
  },
  {
   "cell_type": "markdown",
   "id": "33859ec5-275b-4cac-a28d-cc0d4207b908",
   "metadata": {
    "tags": []
   },
   "source": [
    "----\n",
    "## Modelos\n",
    "Requerido:\n",
    "* Metodología de resolución\n",
    "* Separación en datos de entrenamiento y validación\n",
    "* Encoding datos categóricos (depende del dataset)\n",
    "* Transformaciones datos numéricos (depende del dataset)\n",
    "* Elección de Métrica\n",
    "* Entrenamiento de al menos 3 modelos distintos\n",
    "* Matriz de Confusión (Clasificacion) / Residual Plot (Regresión)\n",
    "\n",
    "Deseable:\n",
    "* Pipelines\n",
    "* Tuneo de hiperparámetros\n",
    "* Métodos Oversampling y Undersampling (Aplica cuando la proporción de una clase es baja)"
   ]
  },
  {
   "cell_type": "code",
   "execution_count": null,
   "id": "c76802e6-dc2b-45eb-b7d4-863b474c0694",
   "metadata": {},
   "outputs": [],
   "source": []
  },
  {
   "cell_type": "code",
   "execution_count": null,
   "id": "1db8978d-a070-42e2-8cca-0a02c8304380",
   "metadata": {},
   "outputs": [],
   "source": []
  },
  {
   "cell_type": "markdown",
   "id": "7c46287d-4ba6-4d2c-855a-769543793a9c",
   "metadata": {
    "tags": []
   },
   "source": [
    "----\n",
    "# Video Clase del día 02 jun 2022 - Alejandro"
   ]
  },
  {
   "cell_type": "markdown",
   "id": "9be3998a-fe73-4893-92dc-f0788ad51a3b",
   "metadata": {
    "jp-MarkdownHeadingCollapsed": true,
    "tags": []
   },
   "source": [
    "### Proporción de la clase\n",
    "Cantidad de personas satisfechas o insatisfechas"
   ]
  },
  {
   "cell_type": "code",
   "execution_count": null,
   "id": "fed40e0e-c7ef-4493-acf6-cbabb6610213",
   "metadata": {},
   "outputs": [],
   "source": [
    "invistico_Airline.nSatisfaction.value_counts(normalize=True).round(2)"
   ]
  },
  {
   "cell_type": "code",
   "execution_count": null,
   "id": "cf77c621-d323-48b8-ab33-e612c61d6fe1",
   "metadata": {},
   "outputs": [],
   "source": [
    "sns.countplot(invistico_Airline.nSatisfaction)\n",
    "plt.title('Proporción de la clase')"
   ]
  },
  {
   "cell_type": "markdown",
   "id": "40477734-f8c9-4799-8c8b-198aaa6b33aa",
   "metadata": {},
   "source": [
    "### Proporción de la clase en la línea base\n",
    "Cantidad de personas satisfechas o insatisfechas"
   ]
  },
  {
   "cell_type": "code",
   "execution_count": null,
   "id": "55fd0ae9-6d61-4e44-833d-ce539247e249",
   "metadata": {},
   "outputs": [],
   "source": [
    "invistico_Airline.nSatisfactionBaselinePredict.value_counts(normalize=True).round(2)"
   ]
  },
  {
   "cell_type": "code",
   "execution_count": null,
   "id": "242d595c-6b98-4ef7-96bd-ccb974aa7080",
   "metadata": {},
   "outputs": [],
   "source": [
    "sns.countplot(invistico_Airline.nSatisfactionBaselinePredict)\n",
    "plt.title('Proporción de la clase en la línea base')"
   ]
  },
  {
   "cell_type": "markdown",
   "id": "ede1a90a-4cb6-4a75-9826-aa539e9fdcef",
   "metadata": {},
   "source": [
    "### Análisis de features vs target\n",
    "\n",
    "Hecho en 1er checkpoint (EDA)"
   ]
  },
  {
   "cell_type": "markdown",
   "id": "373cd53a-a04c-429a-8187-cb4a5e8b6c9a",
   "metadata": {},
   "source": [
    "### Armamos la matriz de predictores (X) y el target (y)\n",
    "\n",
    "Realizado en 2do checkpoint. Ver sección de este notebook:  ***Separación de conjuntos de datos en entrenamiento y evaluación***"
   ]
  },
  {
   "cell_type": "code",
   "execution_count": null,
   "id": "55fdb4a4-9de4-4309-a82d-8c3a6e2e4378",
   "metadata": {},
   "outputs": [],
   "source": []
  },
  {
   "cell_type": "code",
   "execution_count": null,
   "id": "39d320cb-89e7-4563-a4b4-ef882bb1de5b",
   "metadata": {},
   "outputs": [],
   "source": []
  },
  {
   "cell_type": "code",
   "execution_count": null,
   "id": "e695b783-6984-4a6f-b5d5-3ff36a8ad5e0",
   "metadata": {},
   "outputs": [],
   "source": []
  }
 ],
 "metadata": {
  "kernelspec": {
   "display_name": "Python 3 (ipykernel)",
   "language": "python",
   "name": "python3"
  },
  "language_info": {
   "codemirror_mode": {
    "name": "ipython",
    "version": 3
   },
   "file_extension": ".py",
   "mimetype": "text/x-python",
   "name": "python",
   "nbconvert_exporter": "python",
   "pygments_lexer": "ipython3",
   "version": "3.9.7"
  }
 },
 "nbformat": 4,
 "nbformat_minor": 5
}
